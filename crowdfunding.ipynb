{
 "cells": [
  {
   "cell_type": "markdown",
   "metadata": {},
   "source": [
    "Kaggleのデータセットを用いて、クラウドファンディングが成功するか否かを予測する"
   ]
  },
  {
   "cell_type": "markdown",
   "metadata": {},
   "source": [
    "### 1.データセットの確認"
   ]
  },
  {
   "cell_type": "markdown",
   "metadata": {},
   "source": [
    "### 1.1 目的変数について\n",
    "\n",
    "　・クラウドファンディングが成功するかどうかを示す「state」が目的変数"
   ]
  },
  {
   "cell_type": "markdown",
   "metadata": {},
   "source": [
    "### 1.2 データの内容を確認"
   ]
  },
  {
   "cell_type": "code",
   "execution_count": 1,
   "metadata": {},
   "outputs": [],
   "source": [
    "#必要なライブラリを読み込む\n",
    "\n",
    "%matplotlib inline\n",
    "import pandas as pd\n",
    "import numpy as np\n",
    "from sklearn.linear_model import LinearRegression\n",
    "import seaborn as sns\n",
    "import matplotlib.pyplot as plt\n",
    "from mpl_toolkits.mplot3d import Axes3D"
   ]
  },
  {
   "cell_type": "code",
   "execution_count": 2,
   "metadata": {},
   "outputs": [
    {
     "data": {
      "text/html": [
       "<div>\n",
       "<style scoped>\n",
       "    .dataframe tbody tr th:only-of-type {\n",
       "        vertical-align: middle;\n",
       "    }\n",
       "\n",
       "    .dataframe tbody tr th {\n",
       "        vertical-align: top;\n",
       "    }\n",
       "\n",
       "    .dataframe thead th {\n",
       "        text-align: right;\n",
       "    }\n",
       "</style>\n",
       "<table border=\"1\" class=\"dataframe\">\n",
       "  <thead>\n",
       "    <tr style=\"text-align: right;\">\n",
       "      <th></th>\n",
       "      <th>ID</th>\n",
       "      <th>name</th>\n",
       "      <th>category</th>\n",
       "      <th>main_category</th>\n",
       "      <th>currency</th>\n",
       "      <th>deadline</th>\n",
       "      <th>goal</th>\n",
       "      <th>launched</th>\n",
       "      <th>pledged</th>\n",
       "      <th>state</th>\n",
       "      <th>backers</th>\n",
       "      <th>country</th>\n",
       "      <th>usd pledged</th>\n",
       "      <th>usd_pledged_real</th>\n",
       "      <th>usd_goal_real</th>\n",
       "    </tr>\n",
       "  </thead>\n",
       "  <tbody>\n",
       "    <tr>\n",
       "      <th>0</th>\n",
       "      <td>1000002330</td>\n",
       "      <td>The Songs of Adelaide &amp; Abullah</td>\n",
       "      <td>Poetry</td>\n",
       "      <td>Publishing</td>\n",
       "      <td>GBP</td>\n",
       "      <td>2015-10-09</td>\n",
       "      <td>1000.0</td>\n",
       "      <td>2015-08-11 12:12:28</td>\n",
       "      <td>0.0</td>\n",
       "      <td>failed</td>\n",
       "      <td>0</td>\n",
       "      <td>GB</td>\n",
       "      <td>0.0</td>\n",
       "      <td>0.0</td>\n",
       "      <td>1533.95</td>\n",
       "    </tr>\n",
       "    <tr>\n",
       "      <th>1</th>\n",
       "      <td>1000003930</td>\n",
       "      <td>Greeting From Earth: ZGAC Arts Capsule For ET</td>\n",
       "      <td>Narrative Film</td>\n",
       "      <td>Film &amp; Video</td>\n",
       "      <td>USD</td>\n",
       "      <td>2017-11-01</td>\n",
       "      <td>30000.0</td>\n",
       "      <td>2017-09-02 04:43:57</td>\n",
       "      <td>2421.0</td>\n",
       "      <td>failed</td>\n",
       "      <td>15</td>\n",
       "      <td>US</td>\n",
       "      <td>100.0</td>\n",
       "      <td>2421.0</td>\n",
       "      <td>30000.00</td>\n",
       "    </tr>\n",
       "    <tr>\n",
       "      <th>2</th>\n",
       "      <td>1000004038</td>\n",
       "      <td>Where is Hank?</td>\n",
       "      <td>Narrative Film</td>\n",
       "      <td>Film &amp; Video</td>\n",
       "      <td>USD</td>\n",
       "      <td>2013-02-26</td>\n",
       "      <td>45000.0</td>\n",
       "      <td>2013-01-12 00:20:50</td>\n",
       "      <td>220.0</td>\n",
       "      <td>failed</td>\n",
       "      <td>3</td>\n",
       "      <td>US</td>\n",
       "      <td>220.0</td>\n",
       "      <td>220.0</td>\n",
       "      <td>45000.00</td>\n",
       "    </tr>\n",
       "    <tr>\n",
       "      <th>3</th>\n",
       "      <td>1000007540</td>\n",
       "      <td>ToshiCapital Rekordz Needs Help to Complete Album</td>\n",
       "      <td>Music</td>\n",
       "      <td>Music</td>\n",
       "      <td>USD</td>\n",
       "      <td>2012-04-16</td>\n",
       "      <td>5000.0</td>\n",
       "      <td>2012-03-17 03:24:11</td>\n",
       "      <td>1.0</td>\n",
       "      <td>failed</td>\n",
       "      <td>1</td>\n",
       "      <td>US</td>\n",
       "      <td>1.0</td>\n",
       "      <td>1.0</td>\n",
       "      <td>5000.00</td>\n",
       "    </tr>\n",
       "    <tr>\n",
       "      <th>4</th>\n",
       "      <td>1000011046</td>\n",
       "      <td>Community Film Project: The Art of Neighborhoo...</td>\n",
       "      <td>Film &amp; Video</td>\n",
       "      <td>Film &amp; Video</td>\n",
       "      <td>USD</td>\n",
       "      <td>2015-08-29</td>\n",
       "      <td>19500.0</td>\n",
       "      <td>2015-07-04 08:35:03</td>\n",
       "      <td>1283.0</td>\n",
       "      <td>canceled</td>\n",
       "      <td>14</td>\n",
       "      <td>US</td>\n",
       "      <td>1283.0</td>\n",
       "      <td>1283.0</td>\n",
       "      <td>19500.00</td>\n",
       "    </tr>\n",
       "  </tbody>\n",
       "</table>\n",
       "</div>"
      ],
      "text/plain": [
       "           ID                                               name  \\\n",
       "0  1000002330                    The Songs of Adelaide & Abullah   \n",
       "1  1000003930      Greeting From Earth: ZGAC Arts Capsule For ET   \n",
       "2  1000004038                                     Where is Hank?   \n",
       "3  1000007540  ToshiCapital Rekordz Needs Help to Complete Album   \n",
       "4  1000011046  Community Film Project: The Art of Neighborhoo...   \n",
       "\n",
       "         category main_category currency    deadline     goal  \\\n",
       "0          Poetry    Publishing      GBP  2015-10-09   1000.0   \n",
       "1  Narrative Film  Film & Video      USD  2017-11-01  30000.0   \n",
       "2  Narrative Film  Film & Video      USD  2013-02-26  45000.0   \n",
       "3           Music         Music      USD  2012-04-16   5000.0   \n",
       "4    Film & Video  Film & Video      USD  2015-08-29  19500.0   \n",
       "\n",
       "              launched  pledged     state  backers country  usd pledged  \\\n",
       "0  2015-08-11 12:12:28      0.0    failed        0      GB          0.0   \n",
       "1  2017-09-02 04:43:57   2421.0    failed       15      US        100.0   \n",
       "2  2013-01-12 00:20:50    220.0    failed        3      US        220.0   \n",
       "3  2012-03-17 03:24:11      1.0    failed        1      US          1.0   \n",
       "4  2015-07-04 08:35:03   1283.0  canceled       14      US       1283.0   \n",
       "\n",
       "   usd_pledged_real  usd_goal_real  \n",
       "0               0.0        1533.95  \n",
       "1            2421.0       30000.00  \n",
       "2             220.0       45000.00  \n",
       "3               1.0        5000.00  \n",
       "4            1283.0       19500.00  "
      ]
     },
     "metadata": {},
     "output_type": "display_data"
    },
    {
     "name": "stdout",
     "output_type": "stream",
     "text": [
      "<class 'pandas.core.frame.DataFrame'>\n",
      "RangeIndex: 378661 entries, 0 to 378660\n",
      "Data columns (total 15 columns):\n",
      "ID                  378661 non-null int64\n",
      "name                378657 non-null object\n",
      "category            378661 non-null object\n",
      "main_category       378661 non-null object\n",
      "currency            378661 non-null object\n",
      "deadline            378661 non-null object\n",
      "goal                378661 non-null float64\n",
      "launched            378661 non-null object\n",
      "pledged             378661 non-null float64\n",
      "state               378661 non-null object\n",
      "backers             378661 non-null int64\n",
      "country             378661 non-null object\n",
      "usd pledged         374864 non-null float64\n",
      "usd_pledged_real    378661 non-null float64\n",
      "usd_goal_real       378661 non-null float64\n",
      "dtypes: float64(5), int64(2), object(8)\n",
      "memory usage: 43.3+ MB\n"
     ]
    }
   ],
   "source": [
    "#データの読み込み\n",
    "df_data= pd.read_csv(\"../ks-projects-201801/ks-projects-201801.csv\")\n",
    "\n",
    "display(df_data.head())\n",
    "df_data.describe()\n",
    "df_data.info()"
   ]
  },
  {
   "cell_type": "markdown",
   "metadata": {},
   "source": [
    "### 2. データの整理"
   ]
  },
  {
   "cell_type": "markdown",
   "metadata": {},
   "source": [
    "### 2.1 データの可視化"
   ]
  },
  {
   "cell_type": "code",
   "execution_count": 3,
   "metadata": {},
   "outputs": [
    {
     "data": {
      "text/html": [
       "<div>\n",
       "<style scoped>\n",
       "    .dataframe tbody tr th:only-of-type {\n",
       "        vertical-align: middle;\n",
       "    }\n",
       "\n",
       "    .dataframe tbody tr th {\n",
       "        vertical-align: top;\n",
       "    }\n",
       "\n",
       "    .dataframe thead th {\n",
       "        text-align: right;\n",
       "    }\n",
       "</style>\n",
       "<table border=\"1\" class=\"dataframe\">\n",
       "  <thead>\n",
       "    <tr style=\"text-align: right;\">\n",
       "      <th></th>\n",
       "      <th>ID</th>\n",
       "      <th>goal</th>\n",
       "      <th>pledged</th>\n",
       "      <th>backers</th>\n",
       "      <th>usd pledged</th>\n",
       "      <th>usd_pledged_real</th>\n",
       "      <th>usd_goal_real</th>\n",
       "    </tr>\n",
       "  </thead>\n",
       "  <tbody>\n",
       "    <tr>\n",
       "      <th>ID</th>\n",
       "      <td>1.000000</td>\n",
       "      <td>0.001679</td>\n",
       "      <td>0.000466</td>\n",
       "      <td>0.000654</td>\n",
       "      <td>-0.000633</td>\n",
       "      <td>-0.000025</td>\n",
       "      <td>0.001854</td>\n",
       "    </tr>\n",
       "    <tr>\n",
       "      <th>goal</th>\n",
       "      <td>0.001679</td>\n",
       "      <td>1.000000</td>\n",
       "      <td>0.007358</td>\n",
       "      <td>0.004012</td>\n",
       "      <td>0.005534</td>\n",
       "      <td>0.005104</td>\n",
       "      <td>0.942692</td>\n",
       "    </tr>\n",
       "    <tr>\n",
       "      <th>pledged</th>\n",
       "      <td>0.000466</td>\n",
       "      <td>0.007358</td>\n",
       "      <td>1.000000</td>\n",
       "      <td>0.717079</td>\n",
       "      <td>0.857370</td>\n",
       "      <td>0.952843</td>\n",
       "      <td>0.005024</td>\n",
       "    </tr>\n",
       "    <tr>\n",
       "      <th>backers</th>\n",
       "      <td>0.000654</td>\n",
       "      <td>0.004012</td>\n",
       "      <td>0.717079</td>\n",
       "      <td>1.000000</td>\n",
       "      <td>0.697426</td>\n",
       "      <td>0.752539</td>\n",
       "      <td>0.004517</td>\n",
       "    </tr>\n",
       "    <tr>\n",
       "      <th>usd pledged</th>\n",
       "      <td>-0.000633</td>\n",
       "      <td>0.005534</td>\n",
       "      <td>0.857370</td>\n",
       "      <td>0.697426</td>\n",
       "      <td>1.000000</td>\n",
       "      <td>0.907743</td>\n",
       "      <td>0.006172</td>\n",
       "    </tr>\n",
       "    <tr>\n",
       "      <th>usd_pledged_real</th>\n",
       "      <td>-0.000025</td>\n",
       "      <td>0.005104</td>\n",
       "      <td>0.952843</td>\n",
       "      <td>0.752539</td>\n",
       "      <td>0.907743</td>\n",
       "      <td>1.000000</td>\n",
       "      <td>0.005596</td>\n",
       "    </tr>\n",
       "    <tr>\n",
       "      <th>usd_goal_real</th>\n",
       "      <td>0.001854</td>\n",
       "      <td>0.942692</td>\n",
       "      <td>0.005024</td>\n",
       "      <td>0.004517</td>\n",
       "      <td>0.006172</td>\n",
       "      <td>0.005596</td>\n",
       "      <td>1.000000</td>\n",
       "    </tr>\n",
       "  </tbody>\n",
       "</table>\n",
       "</div>"
      ],
      "text/plain": [
       "                        ID      goal   pledged   backers  usd pledged  \\\n",
       "ID                1.000000  0.001679  0.000466  0.000654    -0.000633   \n",
       "goal              0.001679  1.000000  0.007358  0.004012     0.005534   \n",
       "pledged           0.000466  0.007358  1.000000  0.717079     0.857370   \n",
       "backers           0.000654  0.004012  0.717079  1.000000     0.697426   \n",
       "usd pledged      -0.000633  0.005534  0.857370  0.697426     1.000000   \n",
       "usd_pledged_real -0.000025  0.005104  0.952843  0.752539     0.907743   \n",
       "usd_goal_real     0.001854  0.942692  0.005024  0.004517     0.006172   \n",
       "\n",
       "                  usd_pledged_real  usd_goal_real  \n",
       "ID                       -0.000025       0.001854  \n",
       "goal                      0.005104       0.942692  \n",
       "pledged                   0.952843       0.005024  \n",
       "backers                   0.752539       0.004517  \n",
       "usd pledged               0.907743       0.006172  \n",
       "usd_pledged_real          1.000000       0.005596  \n",
       "usd_goal_real             0.005596       1.000000  "
      ]
     },
     "execution_count": 3,
     "metadata": {},
     "output_type": "execute_result"
    }
   ],
   "source": [
    "#変数それぞれの相関係数を求める\n",
    "df_data.corr()"
   ]
  },
  {
   "cell_type": "code",
   "execution_count": 4,
   "metadata": {},
   "outputs": [
    {
     "data": {
      "image/png": "[encoded data removed]",
      "text/plain": [
       "<Figure size 432x288 with 2 Axes>"
      ]
     },
     "metadata": {
      "needs_background": "light"
     },
     "output_type": "display_data"
    }
   ],
   "source": [
    "sns.heatmap(df_data.corr())\n",
    "plt.show()"
   ]
  },
  {
   "cell_type": "markdown",
   "metadata": {},
   "source": [
    "### 2.2 不要なカラムの削除\n",
    "\n",
    "今回のカラムのうち、以下のカラムは不要であると判断し、削除する。\n",
    "\n",
    "・ID （プロジェクトの成否には関係ないと推測）\n",
    "\n",
    "・name　（プロジェクトの成否には関係ないと推測）\n",
    "\n",
    "・category （別カラムのmain_categoryを使用する）\n",
    "\n",
    "・goal　（別カラムのusd_goal_realを使用する）\n",
    "\n",
    "・pledged　(結果として得られる数値なので、使用しない）\n",
    "\n",
    "・usd pledged　(結果として得られる数値なので、使用しない）\n",
    "\n",
    "・usd_pledged_real (結果として得られる数値なので、使用しない）"
   ]
  },
  {
   "cell_type": "code",
   "execution_count": 5,
   "metadata": {},
   "outputs": [
    {
     "data": {
      "text/html": [
       "<div>\n",
       "<style scoped>\n",
       "    .dataframe tbody tr th:only-of-type {\n",
       "        vertical-align: middle;\n",
       "    }\n",
       "\n",
       "    .dataframe tbody tr th {\n",
       "        vertical-align: top;\n",
       "    }\n",
       "\n",
       "    .dataframe thead th {\n",
       "        text-align: right;\n",
       "    }\n",
       "</style>\n",
       "<table border=\"1\" class=\"dataframe\">\n",
       "  <thead>\n",
       "    <tr style=\"text-align: right;\">\n",
       "      <th></th>\n",
       "      <th>main_category</th>\n",
       "      <th>currency</th>\n",
       "      <th>deadline</th>\n",
       "      <th>launched</th>\n",
       "      <th>state</th>\n",
       "      <th>backers</th>\n",
       "      <th>country</th>\n",
       "      <th>usd_goal_real</th>\n",
       "    </tr>\n",
       "  </thead>\n",
       "  <tbody>\n",
       "    <tr>\n",
       "      <th>0</th>\n",
       "      <td>Publishing</td>\n",
       "      <td>GBP</td>\n",
       "      <td>2015-10-09</td>\n",
       "      <td>2015-08-11 12:12:28</td>\n",
       "      <td>failed</td>\n",
       "      <td>0</td>\n",
       "      <td>GB</td>\n",
       "      <td>1533.95</td>\n",
       "    </tr>\n",
       "    <tr>\n",
       "      <th>1</th>\n",
       "      <td>Film &amp; Video</td>\n",
       "      <td>USD</td>\n",
       "      <td>2017-11-01</td>\n",
       "      <td>2017-09-02 04:43:57</td>\n",
       "      <td>failed</td>\n",
       "      <td>15</td>\n",
       "      <td>US</td>\n",
       "      <td>30000.00</td>\n",
       "    </tr>\n",
       "    <tr>\n",
       "      <th>2</th>\n",
       "      <td>Film &amp; Video</td>\n",
       "      <td>USD</td>\n",
       "      <td>2013-02-26</td>\n",
       "      <td>2013-01-12 00:20:50</td>\n",
       "      <td>failed</td>\n",
       "      <td>3</td>\n",
       "      <td>US</td>\n",
       "      <td>45000.00</td>\n",
       "    </tr>\n",
       "    <tr>\n",
       "      <th>3</th>\n",
       "      <td>Music</td>\n",
       "      <td>USD</td>\n",
       "      <td>2012-04-16</td>\n",
       "      <td>2012-03-17 03:24:11</td>\n",
       "      <td>failed</td>\n",
       "      <td>1</td>\n",
       "      <td>US</td>\n",
       "      <td>5000.00</td>\n",
       "    </tr>\n",
       "    <tr>\n",
       "      <th>4</th>\n",
       "      <td>Film &amp; Video</td>\n",
       "      <td>USD</td>\n",
       "      <td>2015-08-29</td>\n",
       "      <td>2015-07-04 08:35:03</td>\n",
       "      <td>canceled</td>\n",
       "      <td>14</td>\n",
       "      <td>US</td>\n",
       "      <td>19500.00</td>\n",
       "    </tr>\n",
       "  </tbody>\n",
       "</table>\n",
       "</div>"
      ],
      "text/plain": [
       "  main_category currency    deadline             launched     state  backers  \\\n",
       "0    Publishing      GBP  2015-10-09  2015-08-11 12:12:28    failed        0   \n",
       "1  Film & Video      USD  2017-11-01  2017-09-02 04:43:57    failed       15   \n",
       "2  Film & Video      USD  2013-02-26  2013-01-12 00:20:50    failed        3   \n",
       "3         Music      USD  2012-04-16  2012-03-17 03:24:11    failed        1   \n",
       "4  Film & Video      USD  2015-08-29  2015-07-04 08:35:03  canceled       14   \n",
       "\n",
       "  country  usd_goal_real  \n",
       "0      GB        1533.95  \n",
       "1      US       30000.00  \n",
       "2      US       45000.00  \n",
       "3      US        5000.00  \n",
       "4      US       19500.00  "
      ]
     },
     "execution_count": 5,
     "metadata": {},
     "output_type": "execute_result"
    }
   ],
   "source": [
    "df_data = df_data.drop(['ID','name','category','goal','pledged','usd pledged', 'usd_pledged_real'], axis=1)\n",
    "df_data.head()"
   ]
  },
  {
   "cell_type": "markdown",
   "metadata": {},
   "source": [
    "### 2.3 欠損値の確認"
   ]
  },
  {
   "cell_type": "code",
   "execution_count": 6,
   "metadata": {},
   "outputs": [
    {
     "data": {
      "text/plain": [
       "main_category    0\n",
       "currency         0\n",
       "deadline         0\n",
       "launched         0\n",
       "state            0\n",
       "backers          0\n",
       "country          0\n",
       "usd_goal_real    0\n",
       "dtype: int64"
      ]
     },
     "execution_count": 6,
     "metadata": {},
     "output_type": "execute_result"
    }
   ],
   "source": [
    "df_data.isnull().sum()"
   ]
  },
  {
   "cell_type": "markdown",
   "metadata": {},
   "source": [
    "欠損値がないため、欠損値処理は行わない。"
   ]
  },
  {
   "cell_type": "markdown",
   "metadata": {},
   "source": [
    "### 2.4 データの変換\n",
    "\n",
    "deadlineとlaunchedについて、プロジェクトの開始日と終了日よりも日数の方が重要と判断し、days（日数）にデータを変換する"
   ]
  },
  {
   "cell_type": "code",
   "execution_count": 7,
   "metadata": {},
   "outputs": [],
   "source": [
    "df_data[\"deadline\"] = pd.to_datetime(df_data[\"deadline\"], errors = \"coerce\")\n",
    "df_data[\"launched\"] = pd.to_datetime(df_data[\"launched\"], errors = \"coerce\")"
   ]
  },
  {
   "cell_type": "code",
   "execution_count": 8,
   "metadata": {},
   "outputs": [],
   "source": [
    "df_data[\"days\"] = (df_data[\"deadline\"] - df_data[\"launched\"]).dt.days"
   ]
  },
  {
   "cell_type": "code",
   "execution_count": 9,
   "metadata": {},
   "outputs": [],
   "source": [
    "df_data = df_data.drop([\"deadline\",\"launched\"], axis=1)"
   ]
  },
  {
   "cell_type": "code",
   "execution_count": 10,
   "metadata": {},
   "outputs": [
    {
     "data": {
      "text/html": [
       "<div>\n",
       "<style scoped>\n",
       "    .dataframe tbody tr th:only-of-type {\n",
       "        vertical-align: middle;\n",
       "    }\n",
       "\n",
       "    .dataframe tbody tr th {\n",
       "        vertical-align: top;\n",
       "    }\n",
       "\n",
       "    .dataframe thead th {\n",
       "        text-align: right;\n",
       "    }\n",
       "</style>\n",
       "<table border=\"1\" class=\"dataframe\">\n",
       "  <thead>\n",
       "    <tr style=\"text-align: right;\">\n",
       "      <th></th>\n",
       "      <th>main_category</th>\n",
       "      <th>currency</th>\n",
       "      <th>state</th>\n",
       "      <th>backers</th>\n",
       "      <th>country</th>\n",
       "      <th>usd_goal_real</th>\n",
       "      <th>days</th>\n",
       "    </tr>\n",
       "  </thead>\n",
       "  <tbody>\n",
       "    <tr>\n",
       "      <th>0</th>\n",
       "      <td>Publishing</td>\n",
       "      <td>GBP</td>\n",
       "      <td>failed</td>\n",
       "      <td>0</td>\n",
       "      <td>GB</td>\n",
       "      <td>1533.95</td>\n",
       "      <td>58</td>\n",
       "    </tr>\n",
       "    <tr>\n",
       "      <th>1</th>\n",
       "      <td>Film &amp; Video</td>\n",
       "      <td>USD</td>\n",
       "      <td>failed</td>\n",
       "      <td>15</td>\n",
       "      <td>US</td>\n",
       "      <td>30000.00</td>\n",
       "      <td>59</td>\n",
       "    </tr>\n",
       "    <tr>\n",
       "      <th>2</th>\n",
       "      <td>Film &amp; Video</td>\n",
       "      <td>USD</td>\n",
       "      <td>failed</td>\n",
       "      <td>3</td>\n",
       "      <td>US</td>\n",
       "      <td>45000.00</td>\n",
       "      <td>44</td>\n",
       "    </tr>\n",
       "    <tr>\n",
       "      <th>3</th>\n",
       "      <td>Music</td>\n",
       "      <td>USD</td>\n",
       "      <td>failed</td>\n",
       "      <td>1</td>\n",
       "      <td>US</td>\n",
       "      <td>5000.00</td>\n",
       "      <td>29</td>\n",
       "    </tr>\n",
       "    <tr>\n",
       "      <th>4</th>\n",
       "      <td>Film &amp; Video</td>\n",
       "      <td>USD</td>\n",
       "      <td>canceled</td>\n",
       "      <td>14</td>\n",
       "      <td>US</td>\n",
       "      <td>19500.00</td>\n",
       "      <td>55</td>\n",
       "    </tr>\n",
       "  </tbody>\n",
       "</table>\n",
       "</div>"
      ],
      "text/plain": [
       "  main_category currency     state  backers country  usd_goal_real  days\n",
       "0    Publishing      GBP    failed        0      GB        1533.95    58\n",
       "1  Film & Video      USD    failed       15      US       30000.00    59\n",
       "2  Film & Video      USD    failed        3      US       45000.00    44\n",
       "3         Music      USD    failed        1      US        5000.00    29\n",
       "4  Film & Video      USD  canceled       14      US       19500.00    55"
      ]
     },
     "execution_count": 10,
     "metadata": {},
     "output_type": "execute_result"
    }
   ],
   "source": [
    "df_data.head()"
   ]
  },
  {
   "cell_type": "markdown",
   "metadata": {},
   "source": [
    "### 2.5 目的変数の処理"
   ]
  },
  {
   "cell_type": "code",
   "execution_count": 11,
   "metadata": {},
   "outputs": [],
   "source": [
    "# 目的変数stateを一番左の列に移動\n",
    "col = df_data.columns.tolist()\n",
    "col.remove('state')\n",
    "col.insert(0,'state')\n",
    "df_data = df_data.loc[:,col]"
   ]
  },
  {
   "cell_type": "code",
   "execution_count": 12,
   "metadata": {},
   "outputs": [
    {
     "data": {
      "text/html": [
       "<div>\n",
       "<style scoped>\n",
       "    .dataframe tbody tr th:only-of-type {\n",
       "        vertical-align: middle;\n",
       "    }\n",
       "\n",
       "    .dataframe tbody tr th {\n",
       "        vertical-align: top;\n",
       "    }\n",
       "\n",
       "    .dataframe thead th {\n",
       "        text-align: right;\n",
       "    }\n",
       "</style>\n",
       "<table border=\"1\" class=\"dataframe\">\n",
       "  <thead>\n",
       "    <tr style=\"text-align: right;\">\n",
       "      <th></th>\n",
       "      <th>state</th>\n",
       "      <th>main_category</th>\n",
       "      <th>currency</th>\n",
       "      <th>backers</th>\n",
       "      <th>country</th>\n",
       "      <th>usd_goal_real</th>\n",
       "      <th>days</th>\n",
       "    </tr>\n",
       "  </thead>\n",
       "  <tbody>\n",
       "    <tr>\n",
       "      <th>0</th>\n",
       "      <td>failed</td>\n",
       "      <td>Publishing</td>\n",
       "      <td>GBP</td>\n",
       "      <td>0</td>\n",
       "      <td>GB</td>\n",
       "      <td>1533.95</td>\n",
       "      <td>58</td>\n",
       "    </tr>\n",
       "    <tr>\n",
       "      <th>1</th>\n",
       "      <td>failed</td>\n",
       "      <td>Film &amp; Video</td>\n",
       "      <td>USD</td>\n",
       "      <td>15</td>\n",
       "      <td>US</td>\n",
       "      <td>30000.00</td>\n",
       "      <td>59</td>\n",
       "    </tr>\n",
       "    <tr>\n",
       "      <th>2</th>\n",
       "      <td>failed</td>\n",
       "      <td>Film &amp; Video</td>\n",
       "      <td>USD</td>\n",
       "      <td>3</td>\n",
       "      <td>US</td>\n",
       "      <td>45000.00</td>\n",
       "      <td>44</td>\n",
       "    </tr>\n",
       "    <tr>\n",
       "      <th>3</th>\n",
       "      <td>failed</td>\n",
       "      <td>Music</td>\n",
       "      <td>USD</td>\n",
       "      <td>1</td>\n",
       "      <td>US</td>\n",
       "      <td>5000.00</td>\n",
       "      <td>29</td>\n",
       "    </tr>\n",
       "    <tr>\n",
       "      <th>4</th>\n",
       "      <td>canceled</td>\n",
       "      <td>Film &amp; Video</td>\n",
       "      <td>USD</td>\n",
       "      <td>14</td>\n",
       "      <td>US</td>\n",
       "      <td>19500.00</td>\n",
       "      <td>55</td>\n",
       "    </tr>\n",
       "  </tbody>\n",
       "</table>\n",
       "</div>"
      ],
      "text/plain": [
       "      state main_category currency  backers country  usd_goal_real  days\n",
       "0    failed    Publishing      GBP        0      GB        1533.95    58\n",
       "1    failed  Film & Video      USD       15      US       30000.00    59\n",
       "2    failed  Film & Video      USD        3      US       45000.00    44\n",
       "3    failed         Music      USD        1      US        5000.00    29\n",
       "4  canceled  Film & Video      USD       14      US       19500.00    55"
      ]
     },
     "execution_count": 12,
     "metadata": {},
     "output_type": "execute_result"
    }
   ],
   "source": [
    "df_data.head()"
   ]
  },
  {
   "cell_type": "code",
   "execution_count": 13,
   "metadata": {},
   "outputs": [
    {
     "data": {
      "text/plain": [
       "failed        197719\n",
       "successful    133956\n",
       "canceled       38779\n",
       "undefined       3562\n",
       "live            2799\n",
       "suspended       1846\n",
       "Name: state, dtype: int64"
      ]
     },
     "execution_count": 13,
     "metadata": {},
     "output_type": "execute_result"
    }
   ],
   "source": [
    "df_data[\"state\"].value_counts()"
   ]
  },
  {
   "cell_type": "code",
   "execution_count": 14,
   "metadata": {},
   "outputs": [],
   "source": [
    "# successfulとfailed以外を削除\n",
    "df_data = df_data[(df_data['state'] == 'successful') | (df_data['state'] == 'failed')]"
   ]
  },
  {
   "cell_type": "code",
   "execution_count": 15,
   "metadata": {},
   "outputs": [
    {
     "name": "stdout",
     "output_type": "stream",
     "text": [
      "<class 'pandas.core.frame.DataFrame'>\n",
      "Int64Index: 331675 entries, 0 to 378660\n",
      "Data columns (total 7 columns):\n",
      "state            331675 non-null object\n",
      "main_category    331675 non-null object\n",
      "currency         331675 non-null object\n",
      "backers          331675 non-null int64\n",
      "country          331675 non-null object\n",
      "usd_goal_real    331675 non-null float64\n",
      "days             331675 non-null int64\n",
      "dtypes: float64(1), int64(2), object(4)\n",
      "memory usage: 20.2+ MB\n"
     ]
    }
   ],
   "source": [
    "df_data.info()"
   ]
  },
  {
   "cell_type": "markdown",
   "metadata": {},
   "source": [
    "### 3. 目的変数と説明変数の関係\n",
    "\n",
    "目的変数と説明変数の関係性を表すグラフを記載する"
   ]
  },
  {
   "cell_type": "markdown",
   "metadata": {},
   "source": [
    "### 3.1 state と main_category"
   ]
  },
  {
   "cell_type": "code",
   "execution_count": 16,
   "metadata": {},
   "outputs": [
    {
     "name": "stdout",
     "output_type": "stream",
     "text": [
      "主なカテゴリー別に見たクラウドファンディングの成否\n"
     ]
    },
    {
     "data": {
      "image/png": "[encoded data removed]",
      "text/plain": [
       "<Figure size 720x720 with 1 Axes>"
      ]
     },
     "metadata": {
      "needs_background": "light"
     },
     "output_type": "display_data"
    }
   ],
   "source": [
    "def showmaincategoryHist(data):\n",
    "    print(\"主なカテゴリー別に見たクラウドファンディングの成否\")\n",
    "    sns.countplot(y=\"main_category\", hue=\"state\", hue_order=[\"successful\", \"failed\"], data=data)\n",
    "    plt.show()\n",
    "\n",
    "plt.figure(figsize=(10,10))\n",
    "showmaincategoryHist(df_data)"
   ]
  },
  {
   "cell_type": "markdown",
   "metadata": {},
   "source": [
    "カテゴリーごとにクラウドファンディングの成否にばらつきがあるため、カテゴリーは目的変数に影響を及ぼしていると推測する。"
   ]
  },
  {
   "cell_type": "markdown",
   "metadata": {},
   "source": [
    "### 3.2 state と currency"
   ]
  },
  {
   "cell_type": "code",
   "execution_count": 17,
   "metadata": {},
   "outputs": [
    {
     "name": "stdout",
     "output_type": "stream",
     "text": [
      "通貨別に見たクラウドファンディングの成否\n"
     ]
    },
    {
     "data": {
      "image/png": "[encoded data removed]",
      "text/plain": [
       "<Figure size 720x720 with 1 Axes>"
      ]
     },
     "metadata": {
      "needs_background": "light"
     },
     "output_type": "display_data"
    }
   ],
   "source": [
    "def showcurrencyHist(data):\n",
    "    print(\"通貨別に見たクラウドファンディングの成否\")\n",
    "    sns.countplot(y=\"currency\", hue=\"state\", hue_order=[\"successful\", \"failed\"], data=data)\n",
    "    plt.show()\n",
    "\n",
    "plt.figure(figsize=(10,10))\n",
    "showcurrencyHist(df_data)"
   ]
  },
  {
   "cell_type": "markdown",
   "metadata": {},
   "source": [
    "通貨ごとにあまりクラウドファンディングの成否にばらつきがみられないため、目的変数への影響は少ないと考えられる。"
   ]
  },
  {
   "cell_type": "markdown",
   "metadata": {},
   "source": [
    "### 3.3 state と backers"
   ]
  },
  {
   "cell_type": "code",
   "execution_count": 18,
   "metadata": {},
   "outputs": [
    {
     "data": {
      "text/plain": [
       "count    331675.000000\n",
       "mean        116.381581\n",
       "std         965.427268\n",
       "min           0.000000\n",
       "25%           2.000000\n",
       "50%          15.000000\n",
       "75%          63.000000\n",
       "max      219382.000000\n",
       "Name: backers, dtype: float64"
      ]
     },
     "execution_count": 18,
     "metadata": {},
     "output_type": "execute_result"
    }
   ],
   "source": [
    "df_data['backers'].describe()"
   ]
  },
  {
   "cell_type": "code",
   "execution_count": 19,
   "metadata": {},
   "outputs": [
    {
     "name": "stdout",
     "output_type": "stream",
     "text": [
      "支持者数別に見たクラウドファンディングの成否\n"
     ]
    },
    {
     "data": {
      "image/png": "[encoded data removed]",
      "text/plain": [
       "<Figure size 720x720 with 1 Axes>"
      ]
     },
     "metadata": {
      "needs_background": "light"
     },
     "output_type": "display_data"
    }
   ],
   "source": [
    "print(\"支持者数別に見たクラウドファンディングの成否\")\n",
    "plt.figure(figsize=(10,10))\n",
    "df_data[\"backers\"][df_data[\"state\"]==\"successful\"].hist(color=\"#5F9BFF\", alpha=.5, label=[\"state successful\"], range=(0,200))\n",
    "df_data[\"backers\"][df_data[\"state\"]==\"failed\"].hist(color=\"#F8766D\", alpha=.5, label=[\"state failed\"], range=(0,200))\n",
    "plt.xlabel(\"backers\")\n",
    "plt.ylabel(\"count\")\n",
    "plt.legend()\n",
    "plt.show()"
   ]
  },
  {
   "cell_type": "markdown",
   "metadata": {},
   "source": [
    "支持者数ごとにクラウドファンディングの成否にばらつきがみられるため、支持者数は目的変数に影響を及ぼしていると推測する。"
   ]
  },
  {
   "cell_type": "markdown",
   "metadata": {},
   "source": [
    "### 3.4 state と country"
   ]
  },
  {
   "cell_type": "code",
   "execution_count": 20,
   "metadata": {},
   "outputs": [
    {
     "data": {
      "text/plain": [
       "US      261360\n",
       "GB       29454\n",
       "CA       12370\n",
       "AU        6616\n",
       "DE        3436\n",
       "FR        2520\n",
       "NL        2411\n",
       "IT        2369\n",
       "ES        1873\n",
       "SE        1509\n",
       "MX        1411\n",
       "NZ        1274\n",
       "DK         926\n",
       "IE         683\n",
       "CH         652\n",
       "NO         582\n",
       "BE         523\n",
       "AT         485\n",
       "HK         477\n",
       "SG         454\n",
       "N,0\"       210\n",
       "LU          57\n",
       "JP          23\n",
       "Name: country, dtype: int64"
      ]
     },
     "execution_count": 20,
     "metadata": {},
     "output_type": "execute_result"
    }
   ],
   "source": [
    "df_data['country'].value_counts()"
   ]
  },
  {
   "cell_type": "code",
   "execution_count": 21,
   "metadata": {},
   "outputs": [
    {
     "name": "stdout",
     "output_type": "stream",
     "text": [
      "アメリカ のクラウドファンディングの成否\n"
     ]
    },
    {
     "data": {
      "image/png": "[encoded data removed]",
      "text/plain": [
       "<Figure size 504x144 with 1 Axes>"
      ]
     },
     "metadata": {
      "needs_background": "light"
     },
     "output_type": "display_data"
    },
    {
     "name": "stdout",
     "output_type": "stream",
     "text": [
      "アメリカ以外の国別 のクラウドファンディングの成否\n"
     ]
    },
    {
     "data": {
      "image/png": "[encoded data removed]",
      "text/plain": [
       "<Figure size 720x720 with 1 Axes>"
      ]
     },
     "metadata": {
      "needs_background": "light"
     },
     "output_type": "display_data"
    }
   ],
   "source": [
    "df_data_us = df_data[[\"state\", \"country\"]][(df_data[\"country\"]=='US')]\n",
    "df_data_other = df_data[[\"state\", \"country\"]][(df_data[\"country\"] != 'US')]\n",
    "\n",
    "def showcountryHist(data, label):\n",
    "    print(label, \"のクラウドファンディングの成否\")\n",
    "    sns.countplot(y=\"country\", hue=\"state\", hue_order=[\"successful\", \"failed\"], data=data)\n",
    "    plt.show()\n",
    "\n",
    "plt.figure(figsize=(7,2))\n",
    "showcountryHist(df_data_us, \"アメリカ\")\n",
    "plt.figure(figsize=(10,10))\n",
    "showcountryHist(df_data_other, \"アメリカ以外の国別\")"
   ]
  },
  {
   "cell_type": "markdown",
   "metadata": {},
   "source": [
    "国ごとにあまりクラウドファンディングの成否にばらつきがみられないため、目的変数への影響は少ないと考えられる。"
   ]
  },
  {
   "cell_type": "markdown",
   "metadata": {},
   "source": [
    "### 3.5 state と usd_goal_real"
   ]
  },
  {
   "cell_type": "code",
   "execution_count": 22,
   "metadata": {},
   "outputs": [
    {
     "data": {
      "text/plain": [
       "count    3.316750e+05\n",
       "mean     4.151000e+04\n",
       "std      1.108930e+06\n",
       "min      1.000000e-02\n",
       "25%      2.000000e+03\n",
       "50%      5.000000e+03\n",
       "75%      1.500000e+04\n",
       "max      1.663614e+08\n",
       "Name: usd_goal_real, dtype: float64"
      ]
     },
     "execution_count": 22,
     "metadata": {},
     "output_type": "execute_result"
    }
   ],
   "source": [
    "df_data['usd_goal_real'].describe()"
   ]
  },
  {
   "cell_type": "code",
   "execution_count": 23,
   "metadata": {},
   "outputs": [
    {
     "name": "stdout",
     "output_type": "stream",
     "text": [
      "目標金額別に見たクラウドファンディングの成否\n"
     ]
    },
    {
     "data": {
      "image/png": "[encoded data removed]",
      "text/plain": [
       "<Figure size 720x720 with 1 Axes>"
      ]
     },
     "metadata": {
      "needs_background": "light"
     },
     "output_type": "display_data"
    }
   ],
   "source": [
    "print(\"目標金額別に見たクラウドファンディングの成否\")\n",
    "plt.figure(figsize=(10,10))\n",
    "df_data[\"usd_goal_real\"][df_data[\"state\"]==\"successful\"].hist(color=\"#5F9BFF\", alpha=.5, label=[\"state successful\"], range=(0,22000))\n",
    "df_data[\"usd_goal_real\"][df_data[\"state\"]==\"failed\"].hist(color=\"#F8766D\", alpha=.5, label=[\"state failed\"], range=(0,22000))\n",
    "plt.xlabel(\"usd_goal_real\")\n",
    "plt.ylabel(\"count\")\n",
    "plt.legend()\n",
    "plt.show()"
   ]
  },
  {
   "cell_type": "code",
   "execution_count": 24,
   "metadata": {},
   "outputs": [
    {
     "name": "stdout",
     "output_type": "stream",
     "text": [
      "目的金額別に見たクラウドファンディングの成否\n"
     ]
    },
    {
     "data": {
      "image/png": "[encoded data removed]",
      "text/plain": [
       "<Figure size 720x720 with 1 Axes>"
      ]
     },
     "metadata": {
      "needs_background": "light"
     },
     "output_type": "display_data"
    }
   ],
   "source": [
    "print(\"目的金額別に見たクラウドファンディングの成否\")\n",
    "plt.figure(figsize=(10,10))\n",
    "df_data[\"usd_goal_real\"][df_data[\"state\"]==\"successful\"].hist(color=\"#5F9BFF\", alpha=.5, label=[\"state successful\"], range=(0,5000))\n",
    "df_data[\"usd_goal_real\"][df_data[\"state\"]==\"failed\"].hist(color=\"#F8766D\", alpha=.5, label=[\"state failed\"], range=(0,5000))\n",
    "plt.xlabel(\"usd_goal_real\")\n",
    "plt.ylabel(\"count\")\n",
    "plt.legend()\n",
    "plt.show()"
   ]
  },
  {
   "cell_type": "markdown",
   "metadata": {},
   "source": [
    "目的金額ごとにクラウドファンディングの成否にばらつきがみられるため、目的金額は目的変数に影響を及ぼしていると推測する。"
   ]
  },
  {
   "cell_type": "markdown",
   "metadata": {},
   "source": [
    "### 3.6 state と days"
   ]
  },
  {
   "cell_type": "code",
   "execution_count": 25,
   "metadata": {},
   "outputs": [
    {
     "data": {
      "text/plain": [
       "count    331675.000000\n",
       "mean         32.954902\n",
       "std          12.713329\n",
       "min           0.000000\n",
       "25%          29.000000\n",
       "50%          29.000000\n",
       "75%          35.000000\n",
       "max          91.000000\n",
       "Name: days, dtype: float64"
      ]
     },
     "execution_count": 25,
     "metadata": {},
     "output_type": "execute_result"
    }
   ],
   "source": [
    "df_data['days'].describe()"
   ]
  },
  {
   "cell_type": "code",
   "execution_count": 26,
   "metadata": {},
   "outputs": [
    {
     "name": "stdout",
     "output_type": "stream",
     "text": [
      "日数別に見たクラウドファンディングの成否\n"
     ]
    },
    {
     "data": {
      "image/png": "[encoded data removed]",
      "text/plain": [
       "<Figure size 720x720 with 1 Axes>"
      ]
     },
     "metadata": {
      "needs_background": "light"
     },
     "output_type": "display_data"
    }
   ],
   "source": [
    "print(\"日数別に見たクラウドファンディングの成否\")\n",
    "plt.figure(figsize=(10,10))\n",
    "df_data[\"days\"][df_data[\"state\"]==\"successful\"].hist(color=\"#5F9BFF\", alpha=.5, label=[\"state successful\"], range=(0,100))\n",
    "df_data[\"days\"][df_data[\"state\"]==\"failed\"].hist(color=\"#F8766D\", alpha=.5, label=[\"state failed\"], range=(0,100))\n",
    "plt.xlabel(\"days\")\n",
    "plt.ylabel(\"count\")\n",
    "plt.legend()\n",
    "plt.show()"
   ]
  },
  {
   "cell_type": "markdown",
   "metadata": {},
   "source": [
    "日数ごとにクラウドファンディングの成否にばらつきがあるため、日数は目的変数に影響を及ぼしていると推測する。"
   ]
  },
  {
   "cell_type": "markdown",
   "metadata": {},
   "source": [
    "### 3.7 関係性のまとめ\n",
    "\n",
    "上記比較より以下の項目がクラウドファンディングの成否に関係があると推測する。\n",
    "\n",
    "・main_categry\n",
    "\n",
    "・backers\n",
    "\n",
    "・usd_goal_real\n",
    "\n",
    "・days"
   ]
  },
  {
   "cell_type": "code",
   "execution_count": 27,
   "metadata": {},
   "outputs": [],
   "source": [
    "#currencyとcountryの削除\n",
    "df_data = df_data.drop([\"currency\",\"country\"], axis=1)"
   ]
  },
  {
   "cell_type": "markdown",
   "metadata": {},
   "source": [
    "### 4. データの前処理"
   ]
  },
  {
   "cell_type": "markdown",
   "metadata": {},
   "source": [
    "### 4.1 変数の変換"
   ]
  },
  {
   "cell_type": "code",
   "execution_count": 28,
   "metadata": {},
   "outputs": [
    {
     "data": {
      "text/plain": [
       "array(['Publishing', 'Film & Video', 'Music', 'Food', 'Crafts', 'Games',\n",
       "       'Design', 'Comics', 'Fashion', 'Theater', 'Art', 'Photography',\n",
       "       'Technology', 'Dance', 'Journalism'], dtype=object)"
      ]
     },
     "execution_count": 28,
     "metadata": {},
     "output_type": "execute_result"
    }
   ],
   "source": [
    "#質的変数をダミー変数に変換する\n",
    "# main_categoryの中身を確認\n",
    "df_data['main_category'].unique()"
   ]
  },
  {
   "cell_type": "code",
   "execution_count": 29,
   "metadata": {},
   "outputs": [
    {
     "data": {
      "text/html": [
       "<div>\n",
       "<style scoped>\n",
       "    .dataframe tbody tr th:only-of-type {\n",
       "        vertical-align: middle;\n",
       "    }\n",
       "\n",
       "    .dataframe tbody tr th {\n",
       "        vertical-align: top;\n",
       "    }\n",
       "\n",
       "    .dataframe thead th {\n",
       "        text-align: right;\n",
       "    }\n",
       "</style>\n",
       "<table border=\"1\" class=\"dataframe\">\n",
       "  <thead>\n",
       "    <tr style=\"text-align: right;\">\n",
       "      <th></th>\n",
       "      <th>state</th>\n",
       "      <th>backers</th>\n",
       "      <th>usd_goal_real</th>\n",
       "      <th>days</th>\n",
       "      <th>Art</th>\n",
       "      <th>Comics</th>\n",
       "      <th>Crafts</th>\n",
       "      <th>Dance</th>\n",
       "      <th>Design</th>\n",
       "      <th>Fashion</th>\n",
       "      <th>Film &amp; Video</th>\n",
       "      <th>Food</th>\n",
       "      <th>Games</th>\n",
       "      <th>Journalism</th>\n",
       "      <th>Music</th>\n",
       "      <th>Photography</th>\n",
       "      <th>Publishing</th>\n",
       "      <th>Technology</th>\n",
       "      <th>Theater</th>\n",
       "    </tr>\n",
       "  </thead>\n",
       "  <tbody>\n",
       "    <tr>\n",
       "      <th>0</th>\n",
       "      <td>failed</td>\n",
       "      <td>0</td>\n",
       "      <td>1533.95</td>\n",
       "      <td>58</td>\n",
       "      <td>0</td>\n",
       "      <td>0</td>\n",
       "      <td>0</td>\n",
       "      <td>0</td>\n",
       "      <td>0</td>\n",
       "      <td>0</td>\n",
       "      <td>0</td>\n",
       "      <td>0</td>\n",
       "      <td>0</td>\n",
       "      <td>0</td>\n",
       "      <td>0</td>\n",
       "      <td>0</td>\n",
       "      <td>1</td>\n",
       "      <td>0</td>\n",
       "      <td>0</td>\n",
       "    </tr>\n",
       "    <tr>\n",
       "      <th>1</th>\n",
       "      <td>failed</td>\n",
       "      <td>15</td>\n",
       "      <td>30000.00</td>\n",
       "      <td>59</td>\n",
       "      <td>0</td>\n",
       "      <td>0</td>\n",
       "      <td>0</td>\n",
       "      <td>0</td>\n",
       "      <td>0</td>\n",
       "      <td>0</td>\n",
       "      <td>1</td>\n",
       "      <td>0</td>\n",
       "      <td>0</td>\n",
       "      <td>0</td>\n",
       "      <td>0</td>\n",
       "      <td>0</td>\n",
       "      <td>0</td>\n",
       "      <td>0</td>\n",
       "      <td>0</td>\n",
       "    </tr>\n",
       "    <tr>\n",
       "      <th>2</th>\n",
       "      <td>failed</td>\n",
       "      <td>3</td>\n",
       "      <td>45000.00</td>\n",
       "      <td>44</td>\n",
       "      <td>0</td>\n",
       "      <td>0</td>\n",
       "      <td>0</td>\n",
       "      <td>0</td>\n",
       "      <td>0</td>\n",
       "      <td>0</td>\n",
       "      <td>1</td>\n",
       "      <td>0</td>\n",
       "      <td>0</td>\n",
       "      <td>0</td>\n",
       "      <td>0</td>\n",
       "      <td>0</td>\n",
       "      <td>0</td>\n",
       "      <td>0</td>\n",
       "      <td>0</td>\n",
       "    </tr>\n",
       "    <tr>\n",
       "      <th>3</th>\n",
       "      <td>failed</td>\n",
       "      <td>1</td>\n",
       "      <td>5000.00</td>\n",
       "      <td>29</td>\n",
       "      <td>0</td>\n",
       "      <td>0</td>\n",
       "      <td>0</td>\n",
       "      <td>0</td>\n",
       "      <td>0</td>\n",
       "      <td>0</td>\n",
       "      <td>0</td>\n",
       "      <td>0</td>\n",
       "      <td>0</td>\n",
       "      <td>0</td>\n",
       "      <td>1</td>\n",
       "      <td>0</td>\n",
       "      <td>0</td>\n",
       "      <td>0</td>\n",
       "      <td>0</td>\n",
       "    </tr>\n",
       "    <tr>\n",
       "      <th>5</th>\n",
       "      <td>successful</td>\n",
       "      <td>224</td>\n",
       "      <td>50000.00</td>\n",
       "      <td>34</td>\n",
       "      <td>0</td>\n",
       "      <td>0</td>\n",
       "      <td>0</td>\n",
       "      <td>0</td>\n",
       "      <td>0</td>\n",
       "      <td>0</td>\n",
       "      <td>0</td>\n",
       "      <td>1</td>\n",
       "      <td>0</td>\n",
       "      <td>0</td>\n",
       "      <td>0</td>\n",
       "      <td>0</td>\n",
       "      <td>0</td>\n",
       "      <td>0</td>\n",
       "      <td>0</td>\n",
       "    </tr>\n",
       "  </tbody>\n",
       "</table>\n",
       "</div>"
      ],
      "text/plain": [
       "        state  backers  usd_goal_real  days  Art  Comics  Crafts  Dance  \\\n",
       "0      failed        0        1533.95    58    0       0       0      0   \n",
       "1      failed       15       30000.00    59    0       0       0      0   \n",
       "2      failed        3       45000.00    44    0       0       0      0   \n",
       "3      failed        1        5000.00    29    0       0       0      0   \n",
       "5  successful      224       50000.00    34    0       0       0      0   \n",
       "\n",
       "   Design  Fashion  Film & Video  Food  Games  Journalism  Music  Photography  \\\n",
       "0       0        0             0     0      0           0      0            0   \n",
       "1       0        0             1     0      0           0      0            0   \n",
       "2       0        0             1     0      0           0      0            0   \n",
       "3       0        0             0     0      0           0      1            0   \n",
       "5       0        0             0     1      0           0      0            0   \n",
       "\n",
       "   Publishing  Technology  Theater  \n",
       "0           1           0        0  \n",
       "1           0           0        0  \n",
       "2           0           0        0  \n",
       "3           0           0        0  \n",
       "5           0           0        0  "
      ]
     },
     "execution_count": 29,
     "metadata": {},
     "output_type": "execute_result"
    }
   ],
   "source": [
    "df_dummy = pd.get_dummies(df_data['main_category'])\n",
    "df_data = pd.concat([df_data.drop(['main_category'], axis=1), df_dummy], axis=1)\n",
    "df_data.head()"
   ]
  },
  {
   "cell_type": "code",
   "execution_count": 30,
   "metadata": {},
   "outputs": [],
   "source": [
    "#目的変数のデータを、failed:0, successful:1 に変換する\n",
    "df_data['state'] = df_data['state'].map({\"failed\":0, \"successful\":1})"
   ]
  },
  {
   "cell_type": "code",
   "execution_count": 31,
   "metadata": {},
   "outputs": [],
   "source": [
    "# データを分割\n",
    "\n",
    "from sklearn.model_selection import train_test_split\n",
    "\n",
    "y = df_data[\"state\"].values\n",
    "X = df_data.iloc[:,1:].values\n",
    "X_columns = df_data.iloc[:,1:].columns\n",
    "\n",
    "# X_train = X\n",
    "# y_train = y\n",
    "X_train, X_test, y_train, y_test = train_test_split(X, y, test_size=0.3,random_state=1234)"
   ]
  },
  {
   "cell_type": "markdown",
   "metadata": {},
   "source": [
    "### 4.2 各分析の評価方法の定義\n",
    "\n",
    "分析を進めるにあたって、評価方法を定義しておく"
   ]
  },
  {
   "cell_type": "code",
   "execution_count": 32,
   "metadata": {},
   "outputs": [],
   "source": [
    "from sklearn.model_selection import train_test_split\n",
    "from sklearn.model_selection import KFold \n",
    "from sklearn.metrics import mean_squared_error, mean_absolute_error\n",
    "from sklearn.metrics import accuracy_score, precision_recall_fscore_support, confusion_matrix\n",
    "from sklearn.metrics import f1_score, recall_score, precision_score,classification_report\n",
    "from sklearn.ensemble import RandomForestClassifier"
   ]
  },
  {
   "cell_type": "code",
   "execution_count": 33,
   "metadata": {},
   "outputs": [],
   "source": [
    "# 混同行列を表示する\n",
    "def showConfusionMatrix(p_y_test, p_y_pred):\n",
    "    df = pd.DataFrame({\"実際\":p_y_test,\"予測\":p_y_pred})\n",
    "    df = df.groupby([\"実際\",\"予測\"])[[\"予測\"]].count()\n",
    "    df.rename(columns={\"予測\":\"num\"},inplace=True)\n",
    "    df.reset_index(inplace=True)\n",
    "    df = df.pivot(index=\"実際\",columns=\"予測\",values=\"num\")\n",
    "    df.sort_index(ascending=False, inplace=True)\n",
    "    df = df[[1,0]]\n",
    "    \n",
    "    display(df)\n",
    "    plt.figure(figsize=(7,4))\n",
    "    sns.heatmap(df, annot=True, cmap='coolwarm' ,fmt='4d')\n",
    "    plt.show()\n",
    "    \n",
    "    accuracy = accuracy_score(p_y_test, p_y_pred)\n",
    "    recall = recall_score(p_y_test, p_y_pred)\n",
    "    precision = precision_score(p_y_test, p_y_pred)\n",
    "    f1 =f1_score(p_y_test, p_y_pred)\n",
    "    \n",
    "    print('正答率:{:.2f}%'.format(accuracy*100))\n",
    "    print('再現率:{:.2f}%'.format(recall*100))\n",
    "    print('適合率:{:.2f}%'.format(precision*100))\n",
    "    print('F1:{:.2f}%'.format(f1*100))\n",
    "    return {\"accuracy\": accuracy*100, \"recall\": recall*100, \"precision\": precision*100, \"f1\": f1*100}\n",
    "\n",
    "# 各アルゴリズムの分析結果を統一フォーマットで管理する\n",
    "def setSummary(score, result_c):\n",
    "    return{'accuracy': result_c['accuracy'],\n",
    "           'recall': result_c['recall'],\n",
    "           'precision': result_c['precision'],\n",
    "           'f1': result_c['f1'],\n",
    "          'score': score,\n",
    "          }\n",
    "\n",
    "# 各モデルの分析結果を格納する変数\n",
    "summary ={}"
   ]
  },
  {
   "cell_type": "markdown",
   "metadata": {},
   "source": [
    "### 5.分析\n",
    "\n",
    "様々なアルゴリズムを用いて分析を行う。"
   ]
  },
  {
   "cell_type": "markdown",
   "metadata": {},
   "source": [
    "### 5.1 ロジスティック回帰"
   ]
  },
  {
   "cell_type": "code",
   "execution_count": 34,
   "metadata": {},
   "outputs": [
    {
     "name": "stdout",
     "output_type": "stream",
     "text": [
      "w0 = -0.789, w1 = 37.270, w2 = -109.431, w3 = -0.205, w4 = 0.131, w5 = -0.031, w6 = -0.048\n"
     ]
    }
   ],
   "source": [
    "from sklearn.linear_model import SGDClassifier\n",
    "from sklearn.metrics import log_loss, accuracy_score, confusion_matrix\n",
    "from sklearn.preprocessing import StandardScaler\n",
    "\n",
    "y = df_data[\"state\"].values\n",
    "X = df_data.drop(\"state\", axis=1).values\n",
    "\n",
    "# 標準化\n",
    "std_scaler = StandardScaler() \n",
    "\n",
    "X_scaled = std_scaler.fit_transform(X)\n",
    "\n",
    "clf = SGDClassifier(loss='log', penalty='none', max_iter=10000, fit_intercept=True, random_state=1234, tol=1e-3, )\n",
    "clf.fit(X_scaled, y)\n",
    "\n",
    "# 重みを取得して表示\n",
    "w0 = clf.intercept_[0]\n",
    "w1 = clf.coef_[0, 0]\n",
    "w2 = clf.coef_[0, 1]\n",
    "w3 = clf.coef_[0, 2]\n",
    "w4 = clf.coef_[0, 3]\n",
    "w5 = clf.coef_[0, 4]\n",
    "w6 = clf.coef_[0, 5]\n",
    "print('w0 = {:.3f}, w1 = {:.3f}, w2 = {:.3f}, w3 = {:.3f}, w4 = {:.3f}, w5 = {:.3f}, w6 = {:.3f}'.format(w0, w1, w2, w3, w4, w5, w6))"
   ]
  },
  {
   "cell_type": "code",
   "execution_count": 35,
   "metadata": {},
   "outputs": [
    {
     "name": "stdout",
     "output_type": "stream",
     "text": [
      "対数尤度 = -111351.378\n",
      "正答率 = 87.999%\n"
     ]
    },
    {
     "data": {
      "text/html": [
       "<div>\n",
       "<style scoped>\n",
       "    .dataframe tbody tr th:only-of-type {\n",
       "        vertical-align: middle;\n",
       "    }\n",
       "\n",
       "    .dataframe tbody tr th {\n",
       "        vertical-align: top;\n",
       "    }\n",
       "\n",
       "    .dataframe thead th {\n",
       "        text-align: right;\n",
       "    }\n",
       "</style>\n",
       "<table border=\"1\" class=\"dataframe\">\n",
       "  <thead>\n",
       "    <tr style=\"text-align: right;\">\n",
       "      <th></th>\n",
       "      <th>予測 = failed</th>\n",
       "      <th>予測 = successful</th>\n",
       "    </tr>\n",
       "  </thead>\n",
       "  <tbody>\n",
       "    <tr>\n",
       "      <th>正解 = failed</th>\n",
       "      <td>188115</td>\n",
       "      <td>9604</td>\n",
       "    </tr>\n",
       "    <tr>\n",
       "      <th>正解 = successful</th>\n",
       "      <td>30199</td>\n",
       "      <td>103757</td>\n",
       "    </tr>\n",
       "  </tbody>\n",
       "</table>\n",
       "</div>"
      ],
      "text/plain": [
       "                 予測 = failed  予測 = successful\n",
       "正解 = failed           188115             9604\n",
       "正解 = successful        30199           103757"
      ]
     },
     "execution_count": 35,
     "metadata": {},
     "output_type": "execute_result"
    }
   ],
   "source": [
    "# ラベルを予測\n",
    "y_est = clf.predict(X_scaled)\n",
    "\n",
    "# 確率値を得る\n",
    "y_est_proba = clf.predict_proba(X_scaled)\n",
    "\n",
    "# 対数尤度を表示\n",
    "# log_lossという関数は、負の対数尤度を返す\n",
    "print('対数尤度 = {:.3f}'.format(- log_loss(y, y_est_proba, normalize=False))) \n",
    "\n",
    "# 正答率を表示\n",
    "print('正答率 = {:.3f}%'.format(100 * accuracy_score(y, y_est)))\n",
    "\n",
    "# 予測値と正解のクロス集計\n",
    "conf_mat = pd.DataFrame(confusion_matrix(y, y_est), \n",
    "                        index=['正解 = failed', '正解 = successful'], \n",
    "                        columns=['予測 = failed', '予測 = successful'])\n",
    "conf_mat"
   ]
  },
  {
   "cell_type": "markdown",
   "metadata": {},
   "source": [
    " 交差検証法を行い精度が良くなるか調べてみる。"
   ]
  },
  {
   "cell_type": "code",
   "execution_count": 36,
   "metadata": {},
   "outputs": [
    {
     "name": "stdout",
     "output_type": "stream",
     "text": [
      "訓練のデータに対する識別率：59.75%\n"
     ]
    },
    {
     "data": {
      "text/html": [
       "<div>\n",
       "<style scoped>\n",
       "    .dataframe tbody tr th:only-of-type {\n",
       "        vertical-align: middle;\n",
       "    }\n",
       "\n",
       "    .dataframe tbody tr th {\n",
       "        vertical-align: top;\n",
       "    }\n",
       "\n",
       "    .dataframe thead th {\n",
       "        text-align: right;\n",
       "    }\n",
       "</style>\n",
       "<table border=\"1\" class=\"dataframe\">\n",
       "  <thead>\n",
       "    <tr style=\"text-align: right;\">\n",
       "      <th>予測</th>\n",
       "      <th>1</th>\n",
       "      <th>0</th>\n",
       "    </tr>\n",
       "    <tr>\n",
       "      <th>実際</th>\n",
       "      <th></th>\n",
       "      <th></th>\n",
       "    </tr>\n",
       "  </thead>\n",
       "  <tbody>\n",
       "    <tr>\n",
       "      <th>1</th>\n",
       "      <td>25590</td>\n",
       "      <td>1203</td>\n",
       "    </tr>\n",
       "    <tr>\n",
       "      <th>0</th>\n",
       "      <td>5476</td>\n",
       "      <td>34066</td>\n",
       "    </tr>\n",
       "  </tbody>\n",
       "</table>\n",
       "</div>"
      ],
      "text/plain": [
       "予測      1      0\n",
       "実際              \n",
       "1   25590   1203\n",
       "0    5476  34066"
      ]
     },
     "metadata": {},
     "output_type": "display_data"
    },
    {
     "data": {
      "image/png": "[encoded data removed]",
      "text/plain": [
       "<Figure size 504x288 with 2 Axes>"
      ]
     },
     "metadata": {
      "needs_background": "light"
     },
     "output_type": "display_data"
    },
    {
     "name": "stdout",
     "output_type": "stream",
     "text": [
      "正答率:89.93%\n",
      "再現率:95.51%\n",
      "適合率:82.37%\n",
      "F1:88.46%\n"
     ]
    }
   ],
   "source": [
    "model = SGDClassifier(loss='log', penalty='none', max_iter=10000, fit_intercept=True, random_state=1234, tol=1e-3, )\n",
    "for train_idx, test_idx in KFold(n_splits=5, shuffle=True, random_state=1234).split(X_scaled, y):\n",
    "    \n",
    "    X_train, y_train = X[train_idx], y[train_idx] #学習用データ\n",
    "    X_test, y_test = X[test_idx], y[test_idx]     #テスト用データ\n",
    "\n",
    "    model.fit(X_train, y_train)\n",
    "    y_pred = model.predict(X_test)\n",
    "\n",
    "score = clf.score(X_train, y_train) * 100\n",
    "print('訓練のデータに対する識別率：{0:.2f}%'.format(score))\n",
    "\n",
    "result_c = showConfusionMatrix(y_test, y_pred)\n",
    "\n",
    "summary['Logistic regression'] = setSummary(score, result_c)"
   ]
  },
  {
   "cell_type": "markdown",
   "metadata": {},
   "source": [
    "交差検証法を行った結果、正答率が良くなった。"
   ]
  },
  {
   "cell_type": "markdown",
   "metadata": {},
   "source": [
    "### 5.2 決定木"
   ]
  },
  {
   "cell_type": "code",
   "execution_count": 37,
   "metadata": {
    "scrolled": true
   },
   "outputs": [
    {
     "name": "stdout",
     "output_type": "stream",
     "text": [
      "{'criterion': 'gini', 'min_samples_split': 5} 0.9055913168010854\n",
      "訓練のデータに対する識別率：97.34%\n"
     ]
    },
    {
     "data": {
      "text/html": [
       "<div>\n",
       "<style scoped>\n",
       "    .dataframe tbody tr th:only-of-type {\n",
       "        vertical-align: middle;\n",
       "    }\n",
       "\n",
       "    .dataframe tbody tr th {\n",
       "        vertical-align: top;\n",
       "    }\n",
       "\n",
       "    .dataframe thead th {\n",
       "        text-align: right;\n",
       "    }\n",
       "</style>\n",
       "<table border=\"1\" class=\"dataframe\">\n",
       "  <thead>\n",
       "    <tr style=\"text-align: right;\">\n",
       "      <th>予測</th>\n",
       "      <th>1</th>\n",
       "      <th>0</th>\n",
       "    </tr>\n",
       "    <tr>\n",
       "      <th>実際</th>\n",
       "      <th></th>\n",
       "      <th></th>\n",
       "    </tr>\n",
       "  </thead>\n",
       "  <tbody>\n",
       "    <tr>\n",
       "      <th>1</th>\n",
       "      <td>23252</td>\n",
       "      <td>3541</td>\n",
       "    </tr>\n",
       "    <tr>\n",
       "      <th>0</th>\n",
       "      <td>2753</td>\n",
       "      <td>36789</td>\n",
       "    </tr>\n",
       "  </tbody>\n",
       "</table>\n",
       "</div>"
      ],
      "text/plain": [
       "予測      1      0\n",
       "実際              \n",
       "1   23252   3541\n",
       "0    2753  36789"
      ]
     },
     "metadata": {},
     "output_type": "display_data"
    },
    {
     "data": {
      "image/png": "[encoded data removed]",
      "text/plain": [
       "<Figure size 504x288 with 2 Axes>"
      ]
     },
     "metadata": {
      "needs_background": "light"
     },
     "output_type": "display_data"
    },
    {
     "name": "stdout",
     "output_type": "stream",
     "text": [
      "正答率:90.51%\n",
      "再現率:86.78%\n",
      "適合率:89.41%\n",
      "F1:88.08%\n",
      "各説明変数の重要度を確認\n"
     ]
    },
    {
     "data": {
      "text/html": [
       "<div>\n",
       "<style scoped>\n",
       "    .dataframe tbody tr th:only-of-type {\n",
       "        vertical-align: middle;\n",
       "    }\n",
       "\n",
       "    .dataframe tbody tr th {\n",
       "        vertical-align: top;\n",
       "    }\n",
       "\n",
       "    .dataframe thead th {\n",
       "        text-align: right;\n",
       "    }\n",
       "</style>\n",
       "<table border=\"1\" class=\"dataframe\">\n",
       "  <thead>\n",
       "    <tr style=\"text-align: right;\">\n",
       "      <th></th>\n",
       "      <th></th>\n",
       "    </tr>\n",
       "  </thead>\n",
       "  <tbody>\n",
       "    <tr>\n",
       "      <th>backers</th>\n",
       "      <td>0.719226</td>\n",
       "    </tr>\n",
       "    <tr>\n",
       "      <th>usd_goal_real</th>\n",
       "      <td>0.193831</td>\n",
       "    </tr>\n",
       "    <tr>\n",
       "      <th>days</th>\n",
       "      <td>0.043607</td>\n",
       "    </tr>\n",
       "    <tr>\n",
       "      <th>Games</th>\n",
       "      <td>0.010071</td>\n",
       "    </tr>\n",
       "    <tr>\n",
       "      <th>Film &amp; Video</th>\n",
       "      <td>0.005430</td>\n",
       "    </tr>\n",
       "  </tbody>\n",
       "</table>\n",
       "</div>"
      ],
      "text/plain": [
       "                       \n",
       "backers        0.719226\n",
       "usd_goal_real  0.193831\n",
       "days           0.043607\n",
       "Games          0.010071\n",
       "Film & Video   0.005430"
      ]
     },
     "metadata": {},
     "output_type": "display_data"
    },
    {
     "data": {
      "image/png": "[encoded data removed]",
      "text/plain": [
       "<Figure size 504x144 with 1 Axes>"
      ]
     },
     "metadata": {
      "needs_background": "light"
     },
     "output_type": "display_data"
    },
    {
     "name": "stdout",
     "output_type": "stream",
     "text": [
      "Wall time: 43 s\n"
     ]
    }
   ],
   "source": [
    "%%time\n",
    "from sklearn.model_selection import train_test_split, GridSearchCV\n",
    "from sklearn.tree import DecisionTreeClassifier, export_graphviz\n",
    "import graphviz\n",
    "import pydotplus\n",
    "from IPython.display import Image\n",
    "from sklearn.externals.six import StringIO\n",
    "\n",
    "\n",
    "#グリッドサーチによる最適なパラメータの検討\n",
    "params = {\n",
    "        \"criterion\": [\"gini\",\"entropy\"],\n",
    "        \"min_samples_split\": [2, 3, 5],\n",
    "        }\n",
    "\n",
    "clf_dtc = GridSearchCV(estimator=DecisionTreeClassifier(random_state=1234),\n",
    "                param_grid = params,   \n",
    "                scoring=\"accuracy\", \n",
    "                cv = 5,\n",
    "                n_jobs = -1)\n",
    "clf_dtc.fit(X, y)\n",
    "print(clf_dtc.best_params_, clf_dtc.best_score_)\n",
    "\n",
    "\n",
    "# 最適パラメータを用いて識別する\n",
    "clf_dtc_tmp = DecisionTreeClassifier(**clf_dtc.best_params_)\n",
    "clf_dtc_tmp.fit(X_train, y_train)\n",
    "\n",
    "score = clf_dtc_tmp.score(X_train, y_train) * 100\n",
    "print('訓練のデータに対する識別率：{0:.2f}%'.format(score))\n",
    "\n",
    "\n",
    "#交差検証と評価\n",
    "model = DecisionTreeClassifier(**clf_dtc.best_params_)\n",
    "\n",
    "for train_idx, test_idx in KFold(n_splits=5, shuffle=True, random_state=1234).split(X, y):\n",
    "    \n",
    "    X_train, y_train = X[train_idx], y[train_idx] #学習用データ\n",
    "    X_test, y_test = X[test_idx], y[test_idx]     #テスト用データ\n",
    "\n",
    "    model.fit(X_train, y_train)\n",
    "    y_pred = model.predict(X_test)\n",
    "    \n",
    "result_c = showConfusionMatrix(y_test, y_pred)\n",
    "summary['DecisionTree'] = setSummary(score, result_c)\n",
    "\n",
    "\n",
    "#各説明変数の重要度を確認\n",
    "print(\"各説明変数の重要度を確認\")\n",
    "df_result_score = pd.DataFrame(model.feature_importances_, index=X_columns, columns=[\"\"])\n",
    "df_sort = df_result_score.sort_values(by=[\"\"], ascending=False).head()\n",
    "display(df_sort)\n",
    "df_sort.plot.bar(figsize=(7,2))\n",
    "plt.show()"
   ]
  },
  {
   "cell_type": "markdown",
   "metadata": {},
   "source": [
    "### 5.3 ランダムフォレスト"
   ]
  },
  {
   "cell_type": "code",
   "execution_count": 38,
   "metadata": {},
   "outputs": [
    {
     "name": "stdout",
     "output_type": "stream",
     "text": [
      "RandomForestClassifier(bootstrap=True, class_weight=None, criterion='gini',\n",
      "            max_depth=None, max_features='auto', max_leaf_nodes=None,\n",
      "            min_impurity_decrease=0.0, min_impurity_split=None,\n",
      "            min_samples_leaf=1, min_samples_split=5,\n",
      "            min_weight_fraction_leaf=0.0, n_estimators=300, n_jobs=None,\n",
      "            oob_score=False, random_state=1234, verbose=0,\n",
      "            warm_start=False) {'criterion': 'gini', 'min_samples_split': 5, 'n_estimators': 300}\n",
      "訓練のデータに対する識別率：97.36%\n"
     ]
    },
    {
     "data": {
      "text/html": [
       "<div>\n",
       "<style scoped>\n",
       "    .dataframe tbody tr th:only-of-type {\n",
       "        vertical-align: middle;\n",
       "    }\n",
       "\n",
       "    .dataframe tbody tr th {\n",
       "        vertical-align: top;\n",
       "    }\n",
       "\n",
       "    .dataframe thead th {\n",
       "        text-align: right;\n",
       "    }\n",
       "</style>\n",
       "<table border=\"1\" class=\"dataframe\">\n",
       "  <thead>\n",
       "    <tr style=\"text-align: right;\">\n",
       "      <th>予測</th>\n",
       "      <th>1</th>\n",
       "      <th>0</th>\n",
       "    </tr>\n",
       "    <tr>\n",
       "      <th>実際</th>\n",
       "      <th></th>\n",
       "      <th></th>\n",
       "    </tr>\n",
       "  </thead>\n",
       "  <tbody>\n",
       "    <tr>\n",
       "      <th>1</th>\n",
       "      <td>24509</td>\n",
       "      <td>2284</td>\n",
       "    </tr>\n",
       "    <tr>\n",
       "      <th>0</th>\n",
       "      <td>2481</td>\n",
       "      <td>37061</td>\n",
       "    </tr>\n",
       "  </tbody>\n",
       "</table>\n",
       "</div>"
      ],
      "text/plain": [
       "予測      1      0\n",
       "実際              \n",
       "1   24509   2284\n",
       "0    2481  37061"
      ]
     },
     "metadata": {},
     "output_type": "display_data"
    },
    {
     "data": {
      "image/png": "[encoded data removed]",
      "text/plain": [
       "<Figure size 504x288 with 2 Axes>"
      ]
     },
     "metadata": {
      "needs_background": "light"
     },
     "output_type": "display_data"
    },
    {
     "name": "stdout",
     "output_type": "stream",
     "text": [
      "正答率:92.82%\n",
      "再現率:91.48%\n",
      "適合率:90.81%\n",
      "F1:91.14%\n"
     ]
    },
    {
     "data": {
      "text/html": [
       "<div>\n",
       "<style scoped>\n",
       "    .dataframe tbody tr th:only-of-type {\n",
       "        vertical-align: middle;\n",
       "    }\n",
       "\n",
       "    .dataframe tbody tr th {\n",
       "        vertical-align: top;\n",
       "    }\n",
       "\n",
       "    .dataframe thead th {\n",
       "        text-align: right;\n",
       "    }\n",
       "</style>\n",
       "<table border=\"1\" class=\"dataframe\">\n",
       "  <thead>\n",
       "    <tr style=\"text-align: right;\">\n",
       "      <th></th>\n",
       "      <th></th>\n",
       "    </tr>\n",
       "  </thead>\n",
       "  <tbody>\n",
       "    <tr>\n",
       "      <th>backers</th>\n",
       "      <td>0.725791</td>\n",
       "    </tr>\n",
       "    <tr>\n",
       "      <th>usd_goal_real</th>\n",
       "      <td>0.192749</td>\n",
       "    </tr>\n",
       "    <tr>\n",
       "      <th>days</th>\n",
       "      <td>0.045247</td>\n",
       "    </tr>\n",
       "    <tr>\n",
       "      <th>Music</th>\n",
       "      <td>0.004945</td>\n",
       "    </tr>\n",
       "    <tr>\n",
       "      <th>Games</th>\n",
       "      <td>0.004496</td>\n",
       "    </tr>\n",
       "  </tbody>\n",
       "</table>\n",
       "</div>"
      ],
      "text/plain": [
       "                       \n",
       "backers        0.725791\n",
       "usd_goal_real  0.192749\n",
       "days           0.045247\n",
       "Music          0.004945\n",
       "Games          0.004496"
      ]
     },
     "metadata": {},
     "output_type": "display_data"
    },
    {
     "data": {
      "image/png": "[encoded data removed]",
      "text/plain": [
       "<Figure size 504x144 with 1 Axes>"
      ]
     },
     "metadata": {
      "needs_background": "light"
     },
     "output_type": "display_data"
    },
    {
     "name": "stdout",
     "output_type": "stream",
     "text": [
      "Wall time: 1h 18min 26s\n"
     ]
    }
   ],
   "source": [
    "%%time\n",
    "from sklearn.model_selection import train_test_split, GridSearchCV\n",
    "from sklearn.ensemble import RandomForestClassifier\n",
    "\n",
    "\n",
    "#グリッドサーチによる最適なパラメータの検討\n",
    "params = {\n",
    "    \"n_estimators\":[100, 200, 300],\n",
    "    \"criterion\": [\"gini\", \"entropy\"],\n",
    "    \"min_samples_split\": [2, 3, 5],\n",
    "}\n",
    "\n",
    "clf_rfc = GridSearchCV(estimator=RandomForestClassifier(random_state=1234),\n",
    "                param_grid = params,   \n",
    "                scoring=\"accuracy\", \n",
    "                cv=5,\n",
    "                n_jobs = -1)\n",
    "clf_rfc.fit(X, y)\n",
    "print(clf_rfc.best_estimator_, clf_rfc.best_params_)\n",
    "\n",
    "\n",
    "# 最適パラメータを用いて識別する\n",
    "clf_rfc_tmp = RandomForestClassifier(**clf_rfc.best_params_)\n",
    "clf_rfc_tmp.fit(X_train, y_train)\n",
    "\n",
    "score = clf_rfc_tmp.score(X_train, y_train) * 100\n",
    "print('訓練のデータに対する識別率：{0:.2f}%'.format(score))\n",
    "\n",
    "\n",
    "#交差検証と評価\n",
    "model = RandomForestClassifier(**clf_rfc.best_params_)\n",
    "for train_idx, test_idx in KFold(n_splits=5, shuffle=True, random_state=1234).split(X, y):\n",
    "    \n",
    "    X_train, y_train = X[train_idx], y[train_idx] #学習用データ\n",
    "    X_test, y_test = X[test_idx], y[test_idx]     #テスト用データ\n",
    "\n",
    "    model.fit(X_train, y_train)\n",
    "    y_pred = model.predict(X_test)\n",
    "    \n",
    "result_c = showConfusionMatrix(y_test, y_pred)\n",
    "summary['RandomForest'] = setSummary(score, result_c)\n",
    "    \n",
    "    \n",
    "#各説明変数の重要度を確認\n",
    "df_result_score = pd.DataFrame(model.feature_importances_, index=X_columns, columns=[\"\"])\n",
    "df_sort = df_result_score.sort_values(by=[\"\"], ascending=False).head()\n",
    "display(df_sort)\n",
    "df_sort.plot.bar(figsize=(7,2))\n",
    "plt.show()"
   ]
  },
  {
   "cell_type": "markdown",
   "metadata": {},
   "source": [
    "### 5.4 アダブースト"
   ]
  },
  {
   "cell_type": "code",
   "execution_count": 39,
   "metadata": {},
   "outputs": [
    {
     "name": "stdout",
     "output_type": "stream",
     "text": [
      "AdaBoostClassifier(algorithm='SAMME.R',\n",
      "          base_estimator=DecisionTreeClassifier(class_weight=None, criterion='gini', max_depth=None,\n",
      "            max_features=None, max_leaf_nodes=None,\n",
      "            min_impurity_decrease=0.0, min_impurity_split=None,\n",
      "            min_samples_leaf=1, min_samples_split=2,\n",
      "            min_weight_fraction_leaf=0.0, presort=False, random_state=1234,\n",
      "            splitter='best'),\n",
      "          learning_rate=1.0, n_estimators=50, random_state=None) {'base_estimator__criterion': 'gini', 'n_estimators': 50}\n",
      "訓練のデータに対する識別率：99.97%\n",
      "Wall time: 1h 24min 43s\n"
     ]
    }
   ],
   "source": [
    "%%time\n",
    "from sklearn.model_selection import train_test_split, GridSearchCV\n",
    "from sklearn.ensemble import AdaBoostClassifier\n",
    "from sklearn.tree import DecisionTreeClassifier\n",
    "\n",
    "\n",
    "#グリッドサーチによる最適なパラメータの検討\n",
    "param_grid = {\n",
    "    \"base_estimator__criterion\" : [\"gini\", \"entropy\"],\n",
    "    \"n_estimators\":[50, 100, 200],\n",
    "}\n",
    "\n",
    "DTC = DecisionTreeClassifier(random_state = 1234)\n",
    "ABC = AdaBoostClassifier(base_estimator = DTC)\n",
    "clf_abc    =  GridSearchCV(ABC, param_grid=param_grid, scoring = 'roc_auc', cv=5)\n",
    "clf_abc.fit(X, y)\n",
    "\n",
    "print(clf_abc.best_estimator_, clf_abc.best_params_)\n",
    "\n",
    "\n",
    "# 最適パラメータを用いて識別する\n",
    "clf_abc.fit(X_train, y_train)\n",
    "\n",
    "score = clf_abc.score(X_train, y_train) * 100\n",
    "print('訓練のデータに対する識別率：{0:.2f}%'.format(score))"
   ]
  },
  {
   "cell_type": "code",
   "execution_count": 43,
   "metadata": {},
   "outputs": [
    {
     "data": {
      "text/html": [
       "<div>\n",
       "<style scoped>\n",
       "    .dataframe tbody tr th:only-of-type {\n",
       "        vertical-align: middle;\n",
       "    }\n",
       "\n",
       "    .dataframe tbody tr th {\n",
       "        vertical-align: top;\n",
       "    }\n",
       "\n",
       "    .dataframe thead th {\n",
       "        text-align: right;\n",
       "    }\n",
       "</style>\n",
       "<table border=\"1\" class=\"dataframe\">\n",
       "  <thead>\n",
       "    <tr style=\"text-align: right;\">\n",
       "      <th>予測</th>\n",
       "      <th>1</th>\n",
       "      <th>0</th>\n",
       "    </tr>\n",
       "    <tr>\n",
       "      <th>実際</th>\n",
       "      <th></th>\n",
       "      <th></th>\n",
       "    </tr>\n",
       "  </thead>\n",
       "  <tbody>\n",
       "    <tr>\n",
       "      <th>1</th>\n",
       "      <td>23894</td>\n",
       "      <td>2899</td>\n",
       "    </tr>\n",
       "    <tr>\n",
       "      <th>0</th>\n",
       "      <td>3067</td>\n",
       "      <td>36475</td>\n",
       "    </tr>\n",
       "  </tbody>\n",
       "</table>\n",
       "</div>"
      ],
      "text/plain": [
       "予測      1      0\n",
       "実際              \n",
       "1   23894   2899\n",
       "0    3067  36475"
      ]
     },
     "metadata": {},
     "output_type": "display_data"
    },
    {
     "data": {
      "image/png": "[encoded data removed]",
      "text/plain": [
       "<Figure size 504x288 with 2 Axes>"
      ]
     },
     "metadata": {
      "needs_background": "light"
     },
     "output_type": "display_data"
    },
    {
     "name": "stdout",
     "output_type": "stream",
     "text": [
      "正答率:91.01%\n",
      "再現率:89.18%\n",
      "適合率:88.62%\n",
      "F1:88.90%\n"
     ]
    },
    {
     "data": {
      "text/html": [
       "<div>\n",
       "<style scoped>\n",
       "    .dataframe tbody tr th:only-of-type {\n",
       "        vertical-align: middle;\n",
       "    }\n",
       "\n",
       "    .dataframe tbody tr th {\n",
       "        vertical-align: top;\n",
       "    }\n",
       "\n",
       "    .dataframe thead th {\n",
       "        text-align: right;\n",
       "    }\n",
       "</style>\n",
       "<table border=\"1\" class=\"dataframe\">\n",
       "  <thead>\n",
       "    <tr style=\"text-align: right;\">\n",
       "      <th></th>\n",
       "      <th></th>\n",
       "    </tr>\n",
       "  </thead>\n",
       "  <tbody>\n",
       "    <tr>\n",
       "      <th>Food</th>\n",
       "      <td>0.000525</td>\n",
       "    </tr>\n",
       "    <tr>\n",
       "      <th>Music</th>\n",
       "      <td>0.000347</td>\n",
       "    </tr>\n",
       "    <tr>\n",
       "      <th>Film &amp; Video</th>\n",
       "      <td>0.000296</td>\n",
       "    </tr>\n",
       "    <tr>\n",
       "      <th>Design</th>\n",
       "      <td>0.000179</td>\n",
       "    </tr>\n",
       "    <tr>\n",
       "      <th>Theater</th>\n",
       "      <td>0.000172</td>\n",
       "    </tr>\n",
       "  </tbody>\n",
       "</table>\n",
       "</div>"
      ],
      "text/plain": [
       "                      \n",
       "Food          0.000525\n",
       "Music         0.000347\n",
       "Film & Video  0.000296\n",
       "Design        0.000179\n",
       "Theater       0.000172"
      ]
     },
     "metadata": {},
     "output_type": "display_data"
    },
    {
     "data": {
      "image/png": "[encoded data removed]",
      "text/plain": [
       "<Figure size 504x144 with 1 Axes>"
      ]
     },
     "metadata": {
      "needs_background": "light"
     },
     "output_type": "display_data"
    }
   ],
   "source": [
    "from sklearn.ensemble import AdaBoostClassifier\n",
    "from sklearn.tree import DecisionTreeClassifier\n",
    "# 交差検証と評価\n",
    "# グリッドサーチの結果より\n",
    "param_n_estimators = 50\n",
    "param_criterion = \"gini\"\n",
    "param_min_samples_split = 2\n",
    "param_min_samples_leaf = 1\n",
    "\n",
    "\n",
    "model = AdaBoostClassifier(\n",
    "            DecisionTreeClassifier(\n",
    "                min_samples_leaf=param_min_samples_leaf,\n",
    "                min_samples_split=param_min_samples_split, \n",
    "                random_state=1234,\n",
    "                criterion=param_criterion),\n",
    "           n_estimators=param_n_estimators,\n",
    "           random_state=None,\n",
    ")\n",
    "\n",
    "for train_idx, test_idx in KFold(n_splits=5, shuffle=True, random_state=1234).split(X, y):\n",
    "    \n",
    "    X_train, y_train = X[train_idx], y[train_idx] #学習用データ\n",
    "    X_test, y_test = X[test_idx], y[test_idx]     #テスト用データ\n",
    "\n",
    "    model.fit(X_train, y_train)\n",
    "    y_pred = model.predict(X_test)\n",
    "    \n",
    "result_c = showConfusionMatrix(y_test, y_pred)\n",
    "summary['AdaBoost'] = setSummary(score, result_c)\n",
    "\n",
    "#各説明変数の重要度を確認\n",
    "df_result_score = pd.DataFrame(model.feature_importances_, index=X_columns, columns=[\"\"])\n",
    "df_sort = df_result_score.sort_values(by=[\"\"], ascending=False).head()\n",
    "display(df_sort)\n",
    "df_sort.plot.bar(figsize=(7,2))\n",
    "plt.show()"
   ]
  },
  {
   "cell_type": "markdown",
   "metadata": {},
   "source": [
    "### 5.5 TensorFlow + keras"
   ]
  },
  {
   "cell_type": "code",
   "execution_count": 44,
   "metadata": {},
   "outputs": [],
   "source": [
    "from sklearn.model_selection import train_test_split, GridSearchCV\n",
    "from IPython.display import display\n",
    "import seaborn as sns\n",
    "from sklearn.metrics import accuracy_score,f1_score,recall_score,precision_score,classification_report\n",
    "from sklearn.metrics import confusion_matrix\n",
    "from tensorflow import keras  \n",
    "import tensorflow as tf\n",
    "from tensorflow.compat.v1.keras import Sequential\n",
    "from tensorflow.compat.v1.keras.layers import Dense, Dropout, Activation\n",
    "from tensorflow.compat.v1.keras.optimizers import SGD,RMSprop, Adagrad, Adadelta, Adam\n",
    "\n",
    "# 標準化\n",
    "stdsc = StandardScaler()\n",
    "X_train_stand = stdsc.fit_transform(X_train)\n",
    "X_test_stand = stdsc.transform(X_test)\n",
    "\n",
    "# one-hotベクトルに変換\n",
    "from tensorflow.keras.utils import to_categorical\n",
    "y_train_onehot = to_categorical(y_train)\n",
    "y_test_onehot = to_categorical(y_test)\n",
    "\n",
    "# パラメータの設定\n",
    "model = Sequential()\n",
    "model.add(Dense(120, activation='relu', input_dim=X_train_stand.shape[1]))\n",
    "model.add(Dense(100, activation='relu', input_dim=120))\n",
    "model.add(Dense(80, activation='relu', input_dim=100))\n",
    "model.add(Dense(2, activation='softmax'))#最終層のactivationは変更しないこと\n",
    "\n",
    "# ------ 最適化手法 ------\n",
    "sgd = SGD(lr=0.01, momentum=0.9, nesterov=False)\n",
    "# rms = RMSprop(lr=0.01)\n",
    "# adag = Adagrad(lr=0.01)\n",
    "# adad = Adadelta(lr=0.01)\n",
    "# adam = Adam(lr=0.01)\n",
    "# -----------------------------\n",
    "\n",
    "model.compile(loss='categorical_crossentropy',\n",
    "              optimizer=sgd,\n",
    "              metrics=['accuracy'])"
   ]
  },
  {
   "cell_type": "code",
   "execution_count": 45,
   "metadata": {
    "scrolled": true
   },
   "outputs": [
    {
     "name": "stdout",
     "output_type": "stream",
     "text": [
      "Train on 265340 samples, validate on 66335 samples\n",
      "Epoch 1/50\n",
      "265340/265340 [==============================] - 18s 67us/sample - loss: 0.4322 - acc: 0.8044 - val_loss: 0.3933 - val_acc: 0.8393\n",
      "Epoch 2/50\n",
      "265340/265340 [==============================] - 18s 68us/sample - loss: 0.3559 - acc: 0.8485 - val_loss: 0.3480 - val_acc: 0.8567\n",
      "Epoch 3/50\n",
      "265340/265340 [==============================] - 18s 68us/sample - loss: 0.3335 - acc: 0.8587 - val_loss: 0.3208 - val_acc: 0.8660\n",
      "Epoch 4/50\n",
      "265340/265340 [==============================] - 18s 68us/sample - loss: 0.3221 - acc: 0.8641 - val_loss: 0.3494 - val_acc: 0.8536\n",
      "Epoch 5/50\n",
      "265340/265340 [==============================] - 18s 68us/sample - loss: 0.3112 - acc: 0.8695 - val_loss: 0.3156 - val_acc: 0.8644\n",
      "Epoch 6/50\n",
      "265340/265340 [==============================] - 18s 68us/sample - loss: 0.3026 - acc: 0.8730 - val_loss: 0.2879 - val_acc: 0.8789\n",
      "Epoch 7/50\n",
      "265340/265340 [==============================] - 18s 68us/sample - loss: 0.2957 - acc: 0.8758 - val_loss: 0.2766 - val_acc: 0.8821\n",
      "Epoch 8/50\n",
      "265340/265340 [==============================] - 18s 68us/sample - loss: 0.2892 - acc: 0.8793 - val_loss: 0.2693 - val_acc: 0.8854\n",
      "Epoch 9/50\n",
      "265340/265340 [==============================] - 18s 69us/sample - loss: 0.2840 - acc: 0.8814 - val_loss: 0.3017 - val_acc: 0.8661\n",
      "Epoch 10/50\n",
      "265340/265340 [==============================] - 18s 68us/sample - loss: 0.2799 - acc: 0.8828 - val_loss: 0.2632 - val_acc: 0.8926\n",
      "Epoch 11/50\n",
      "265340/265340 [==============================] - 18s 69us/sample - loss: 0.2766 - acc: 0.8846 - val_loss: 0.3026 - val_acc: 0.8758\n",
      "Epoch 12/50\n",
      "265340/265340 [==============================] - 18s 68us/sample - loss: 0.2729 - acc: 0.8863 - val_loss: 0.2624 - val_acc: 0.8904\n",
      "Epoch 13/50\n",
      "265340/265340 [==============================] - 20s 76us/sample - loss: 0.2697 - acc: 0.8879 - val_loss: 0.2552 - val_acc: 0.8933\n",
      "Epoch 14/50\n",
      "265340/265340 [==============================] - 20s 76us/sample - loss: 0.2675 - acc: 0.8888 - val_loss: 0.2600 - val_acc: 0.8895\n",
      "Epoch 15/50\n",
      "265340/265340 [==============================] - 19s 72us/sample - loss: 0.2645 - acc: 0.8902 - val_loss: 0.2647 - val_acc: 0.8927\n",
      "Epoch 16/50\n",
      "265340/265340 [==============================] - 18s 68us/sample - loss: 0.2616 - acc: 0.8923 - val_loss: 0.2495 - val_acc: 0.8949\n",
      "Epoch 17/50\n",
      "265340/265340 [==============================] - 18s 68us/sample - loss: 0.2604 - acc: 0.8914 - val_loss: 0.2607 - val_acc: 0.8852\n",
      "Epoch 18/50\n",
      "265340/265340 [==============================] - 18s 68us/sample - loss: 0.2577 - acc: 0.8924 - val_loss: 0.2607 - val_acc: 0.8912\n",
      "Epoch 19/50\n",
      "265340/265340 [==============================] - 18s 69us/sample - loss: 0.2565 - acc: 0.8935 - val_loss: 0.2579 - val_acc: 0.8976\n",
      "Epoch 20/50\n",
      "265340/265340 [==============================] - 18s 69us/sample - loss: 0.2542 - acc: 0.8949 - val_loss: 0.2527 - val_acc: 0.8934\n",
      "Epoch 21/50\n",
      "265340/265340 [==============================] - 19s 70us/sample - loss: 0.2536 - acc: 0.8949 - val_loss: 0.2557 - val_acc: 0.8942\n",
      "Epoch 22/50\n",
      "265340/265340 [==============================] - 18s 69us/sample - loss: 0.2517 - acc: 0.8955 - val_loss: 0.2621 - val_acc: 0.8956\n",
      "Epoch 23/50\n",
      "265340/265340 [==============================] - 18s 67us/sample - loss: 0.2502 - acc: 0.8963 - val_loss: 0.2381 - val_acc: 0.9009\n",
      "Epoch 24/50\n",
      "265340/265340 [==============================] - 19s 70us/sample - loss: 0.2491 - acc: 0.8968 - val_loss: 0.2523 - val_acc: 0.8935\n",
      "Epoch 25/50\n",
      "265340/265340 [==============================] - 18s 68us/sample - loss: 0.2474 - acc: 0.8976 - val_loss: 0.2506 - val_acc: 0.8996\n",
      "Epoch 26/50\n",
      "265340/265340 [==============================] - 18s 69us/sample - loss: 0.2464 - acc: 0.8981 - val_loss: 0.2285 - val_acc: 0.9066\n",
      "Epoch 27/50\n",
      "265340/265340 [==============================] - 18s 69us/sample - loss: 0.2455 - acc: 0.8986 - val_loss: 0.2291 - val_acc: 0.9043\n",
      "Epoch 28/50\n",
      "265340/265340 [==============================] - 18s 69us/sample - loss: 0.2442 - acc: 0.8991 - val_loss: 0.2422 - val_acc: 0.9028\n",
      "Epoch 29/50\n",
      "265340/265340 [==============================] - 18s 68us/sample - loss: 0.2431 - acc: 0.8996 - val_loss: 0.2348 - val_acc: 0.9007\n",
      "Epoch 30/50\n",
      "265340/265340 [==============================] - 18s 69us/sample - loss: 0.2423 - acc: 0.8994 - val_loss: 0.2384 - val_acc: 0.8986\n",
      "Epoch 31/50\n",
      "265340/265340 [==============================] - 18s 68us/sample - loss: 0.2420 - acc: 0.8999 - val_loss: 0.2412 - val_acc: 0.8957\n",
      "Epoch 32/50\n",
      "265340/265340 [==============================] - 18s 69us/sample - loss: 0.2408 - acc: 0.9005 - val_loss: 0.2546 - val_acc: 0.8936\n",
      "Epoch 33/50\n",
      "265340/265340 [==============================] - 18s 68us/sample - loss: 0.2398 - acc: 0.9011 - val_loss: 0.2451 - val_acc: 0.8945\n",
      "Epoch 34/50\n",
      "265340/265340 [==============================] - 18s 68us/sample - loss: 0.2385 - acc: 0.9016 - val_loss: 0.2388 - val_acc: 0.8979\n",
      "Epoch 35/50\n",
      "265340/265340 [==============================] - 18s 68us/sample - loss: 0.2389 - acc: 0.9014 - val_loss: 0.2225 - val_acc: 0.9087\n",
      "Epoch 36/50\n",
      "265340/265340 [==============================] - 18s 68us/sample - loss: 0.2385 - acc: 0.9011 - val_loss: 0.2351 - val_acc: 0.9039\n",
      "Epoch 37/50\n",
      "265340/265340 [==============================] - 18s 69us/sample - loss: 0.2369 - acc: 0.9022 - val_loss: 0.2417 - val_acc: 0.8988\n",
      "Epoch 38/50\n",
      "265340/265340 [==============================] - 18s 69us/sample - loss: 0.2361 - acc: 0.9029 - val_loss: 0.2428 - val_acc: 0.8976\n",
      "Epoch 39/50\n",
      "265340/265340 [==============================] - 18s 69us/sample - loss: 0.2349 - acc: 0.9032 - val_loss: 0.2351 - val_acc: 0.9042\n",
      "Epoch 40/50\n",
      "265340/265340 [==============================] - 18s 68us/sample - loss: 0.2346 - acc: 0.9033 - val_loss: 0.2284 - val_acc: 0.9048\n",
      "Epoch 41/50\n",
      "265340/265340 [==============================] - 18s 68us/sample - loss: 0.2350 - acc: 0.9027 - val_loss: 0.2354 - val_acc: 0.9026\n",
      "Epoch 42/50\n",
      "265340/265340 [==============================] - 18s 68us/sample - loss: 0.2332 - acc: 0.9035 - val_loss: 0.2414 - val_acc: 0.9007\n",
      "Epoch 43/50\n",
      "265340/265340 [==============================] - 18s 68us/sample - loss: 0.2330 - acc: 0.9042 - val_loss: 0.2295 - val_acc: 0.9075\n",
      "Epoch 44/50\n",
      "265340/265340 [==============================] - 18s 68us/sample - loss: 0.2323 - acc: 0.9043 - val_loss: 0.2254 - val_acc: 0.9043\n",
      "Epoch 45/50\n",
      "265340/265340 [==============================] - 18s 68us/sample - loss: 0.2322 - acc: 0.9041 - val_loss: 0.2307 - val_acc: 0.9024\n",
      "Epoch 46/50\n",
      "265340/265340 [==============================] - 18s 69us/sample - loss: 0.2317 - acc: 0.9045 - val_loss: 0.2413 - val_acc: 0.9015\n",
      "Epoch 47/50\n",
      "265340/265340 [==============================] - 18s 69us/sample - loss: 0.2316 - acc: 0.9047 - val_loss: 0.2354 - val_acc: 0.9018\n",
      "Epoch 48/50\n",
      "265340/265340 [==============================] - 18s 68us/sample - loss: 0.2305 - acc: 0.9049 - val_loss: 0.2196 - val_acc: 0.9087\n",
      "Epoch 49/50\n",
      "265340/265340 [==============================] - 18s 69us/sample - loss: 0.2306 - acc: 0.9048 - val_loss: 0.2279 - val_acc: 0.9049\n",
      "Epoch 50/50\n",
      "265340/265340 [==============================] - 18s 69us/sample - loss: 0.2294 - acc: 0.9057 - val_loss: 0.2273 - val_acc: 0.9073\n"
     ]
    },
    {
     "data": {
      "image/png": "[encoded data removed]",
      "text/plain": [
       "<Figure size 432x288 with 1 Axes>"
      ]
     },
     "metadata": {
      "needs_background": "light"
     },
     "output_type": "display_data"
    },
    {
     "data": {
      "image/png": "[encoded data removed]",
      "text/plain": [
       "<Figure size 432x288 with 1 Axes>"
      ]
     },
     "metadata": {
      "needs_background": "light"
     },
     "output_type": "display_data"
    },
    {
     "data": {
      "text/html": [
       "<div>\n",
       "<style scoped>\n",
       "    .dataframe tbody tr th:only-of-type {\n",
       "        vertical-align: middle;\n",
       "    }\n",
       "\n",
       "    .dataframe tbody tr th {\n",
       "        vertical-align: top;\n",
       "    }\n",
       "\n",
       "    .dataframe thead th {\n",
       "        text-align: right;\n",
       "    }\n",
       "</style>\n",
       "<table border=\"1\" class=\"dataframe\">\n",
       "  <thead>\n",
       "    <tr style=\"text-align: right;\">\n",
       "      <th>予測</th>\n",
       "      <th>1</th>\n",
       "      <th>0</th>\n",
       "    </tr>\n",
       "    <tr>\n",
       "      <th>実際</th>\n",
       "      <th></th>\n",
       "      <th></th>\n",
       "    </tr>\n",
       "  </thead>\n",
       "  <tbody>\n",
       "    <tr>\n",
       "      <th>1</th>\n",
       "      <td>23665</td>\n",
       "      <td>3128</td>\n",
       "    </tr>\n",
       "    <tr>\n",
       "      <th>0</th>\n",
       "      <td>3020</td>\n",
       "      <td>36522</td>\n",
       "    </tr>\n",
       "  </tbody>\n",
       "</table>\n",
       "</div>"
      ],
      "text/plain": [
       "予測      1      0\n",
       "実際              \n",
       "1   23665   3128\n",
       "0    3020  36522"
      ]
     },
     "metadata": {},
     "output_type": "display_data"
    },
    {
     "data": {
      "image/png": "[encoded data removed]",
      "text/plain": [
       "<Figure size 504x288 with 2 Axes>"
      ]
     },
     "metadata": {
      "needs_background": "light"
     },
     "output_type": "display_data"
    },
    {
     "name": "stdout",
     "output_type": "stream",
     "text": [
      "正答率:90.73%\n",
      "再現率:88.33%\n",
      "適合率:88.68%\n",
      "F1:88.50%\n"
     ]
    }
   ],
   "source": [
    "# 計算の実行\n",
    "fit = model.fit(X_train_stand, y_train_onehot,\n",
    "          epochs=50,\n",
    "          batch_size=20,validation_data=(X_test_stand, y_test_onehot))\n",
    "\n",
    "# 各epochにおける損失と精度をdfに入れる\n",
    "df = pd.DataFrame(fit.history)\n",
    "\n",
    "# グラフ化\n",
    "df[[\"loss\", \"val_loss\"]].plot()\n",
    "plt.ylabel(\"loss\")\n",
    "plt.xlabel(\"epoch\")\n",
    "plt.show()\n",
    "\n",
    "df[[\"acc\", \"val_acc\"]].plot()\n",
    "plt.ylabel(\"acc\")\n",
    "plt.xlabel(\"epoch\")\n",
    "plt.ylim([0,1.0])\n",
    "plt.show()\n",
    "\n",
    "\n",
    "#評価\n",
    "y_pred = np.argmax(model.predict(X_test_stand),axis=1)\n",
    "\n",
    "score = 0\n",
    "result_c = showConfusionMatrix(y_test, y_pred)\n",
    "summary['TensorFlow'] = setSummary(score, result_c)"
   ]
  },
  {
   "cell_type": "code",
   "execution_count": 46,
   "metadata": {},
   "outputs": [],
   "source": [
    "from tensorflow.compat.v1.keras.models import load_model\n",
    "\n",
    "# 保存\n",
    "model.save('Tensorflow_model.h5')\n",
    "del model"
   ]
  },
  {
   "cell_type": "markdown",
   "metadata": {},
   "source": [
    "### 6. まとめ"
   ]
  },
  {
   "cell_type": "code",
   "execution_count": 47,
   "metadata": {},
   "outputs": [
    {
     "data": {
      "text/html": [
       "<div>\n",
       "<style scoped>\n",
       "    .dataframe tbody tr th:only-of-type {\n",
       "        vertical-align: middle;\n",
       "    }\n",
       "\n",
       "    .dataframe tbody tr th {\n",
       "        vertical-align: top;\n",
       "    }\n",
       "\n",
       "    .dataframe thead th {\n",
       "        text-align: right;\n",
       "    }\n",
       "</style>\n",
       "<table border=\"1\" class=\"dataframe\">\n",
       "  <thead>\n",
       "    <tr style=\"text-align: right;\">\n",
       "      <th></th>\n",
       "      <th>accuracy</th>\n",
       "      <th>recall</th>\n",
       "      <th>precision</th>\n",
       "      <th>f1</th>\n",
       "      <th>score</th>\n",
       "    </tr>\n",
       "  </thead>\n",
       "  <tbody>\n",
       "    <tr>\n",
       "      <th>RandomForest</th>\n",
       "      <td>92.816763</td>\n",
       "      <td>91.475385</td>\n",
       "      <td>90.807707</td>\n",
       "      <td>91.140323</td>\n",
       "      <td>97.357353</td>\n",
       "    </tr>\n",
       "    <tr>\n",
       "      <th>AdaBoost</th>\n",
       "      <td>91.006256</td>\n",
       "      <td>89.180010</td>\n",
       "      <td>88.624309</td>\n",
       "      <td>88.901291</td>\n",
       "      <td>0.000000</td>\n",
       "    </tr>\n",
       "    <tr>\n",
       "      <th>TensorFlow</th>\n",
       "      <td>90.731891</td>\n",
       "      <td>88.325309</td>\n",
       "      <td>88.682781</td>\n",
       "      <td>88.503684</td>\n",
       "      <td>0.000000</td>\n",
       "    </tr>\n",
       "    <tr>\n",
       "      <th>DecisionTree</th>\n",
       "      <td>90.511796</td>\n",
       "      <td>86.783861</td>\n",
       "      <td>89.413574</td>\n",
       "      <td>88.079094</td>\n",
       "      <td>97.344916</td>\n",
       "    </tr>\n",
       "    <tr>\n",
       "      <th>Logistic regression</th>\n",
       "      <td>89.931409</td>\n",
       "      <td>95.510021</td>\n",
       "      <td>82.373012</td>\n",
       "      <td>88.456420</td>\n",
       "      <td>59.747117</td>\n",
       "    </tr>\n",
       "  </tbody>\n",
       "</table>\n",
       "</div>"
      ],
      "text/plain": [
       "                      accuracy     recall  precision         f1      score\n",
       "RandomForest         92.816763  91.475385  90.807707  91.140323  97.357353\n",
       "AdaBoost             91.006256  89.180010  88.624309  88.901291   0.000000\n",
       "TensorFlow           90.731891  88.325309  88.682781  88.503684   0.000000\n",
       "DecisionTree         90.511796  86.783861  89.413574  88.079094  97.344916\n",
       "Logistic regression  89.931409  95.510021  82.373012  88.456420  59.747117"
      ]
     },
     "metadata": {},
     "output_type": "display_data"
    }
   ],
   "source": [
    "summary_columns = [\"accuracy\", \"recall\", \"precision\", \"f1\", \"score\"]\n",
    "summary_t = pd.DataFrame(summary).T\n",
    "\n",
    "df_sort = summary_t[summary_columns].sort_values(by=[\"accuracy\"], ascending=False);\n",
    "display(df_sort)"
   ]
  },
  {
   "cell_type": "code",
   "execution_count": 50,
   "metadata": {},
   "outputs": [
    {
     "data": {
      "image/png": "[encoded data removed]",
      "text/plain": [
       "<Figure size 504x216 with 1 Axes>"
      ]
     },
     "metadata": {
      "needs_background": "light"
     },
     "output_type": "display_data"
    }
   ],
   "source": [
    "df_sort = df_sort[[\"accuracy\"]]\n",
    "df_sort.plot.bar(figsize=(7,3))\n",
    "plt.ylabel(\"accuracy\")\n",
    "plt.xlabel(\"Algorithm\")\n",
    "plt.ylim([80, 100.0])\n",
    "plt.show()"
   ]
  }
 ],
 "metadata": {
  "kernelspec": {
   "display_name": "Python 3",
   "language": "python",
   "name": "python3"
  },
  "language_info": {
   "codemirror_mode": {
    "name": "ipython",
    "version": 3
   },
   "file_extension": ".py",
   "mimetype": "text/x-python",
   "name": "python",
   "nbconvert_exporter": "python",
   "pygments_lexer": "ipython3",
   "version": "3.7.3"
  }
 },
 "nbformat": 4,
 "nbformat_minor": 2
}
